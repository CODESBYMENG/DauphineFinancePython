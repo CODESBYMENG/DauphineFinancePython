{
 "cells": [
  {
   "cell_type": "markdown",
   "source": [
    "# Python Programming for Finance\r\n",
    "\r\n",
    "# Assignment 1 "
   ],
   "metadata": {}
  },
  {
   "cell_type": "markdown",
   "source": [
    "# Preliminaries"
   ],
   "metadata": {}
  },
  {
   "cell_type": "markdown",
   "source": [
    "It is possible to directly download financial data from the yahoo finance API, by using the companie's ticker, and two dates\r\n",
    "expressed in UNIX time stamp (number of seconds after January 1 1970)"
   ],
   "metadata": {}
  },
  {
   "cell_type": "code",
   "execution_count": 13,
   "source": [
    "import pandas as pd\r\n",
    "import numpy as np\r\n",
    "from matplotlib import pyplot as plt\r\n",
    "import datetime\r\n",
    "import time\r\n",
    "# datetime date uses the yyyy, mm, dd format\r\n",
    "before = int(time.mktime(datetime.date(2010,1,1).timetuple()))# Starting date\r\n",
    "today  = int(time.mktime(datetime.date(2020,1,1).timetuple()))# Last date"
   ],
   "outputs": [],
   "metadata": {}
  },
  {
   "cell_type": "code",
   "execution_count": 11,
   "source": [
    "ticker = 'tsla' # Download data for tesla"
   ],
   "outputs": [],
   "metadata": {}
  },
  {
   "cell_type": "code",
   "execution_count": 12,
   "source": [
    "url=f\"https://query1.finance.yahoo.com/v7/finance/download/{ticker}?period1={before}&period2={today}&interval=1d&events=history&includeAdjustedClose=true\"\r\n",
    "url"
   ],
   "outputs": [
    {
     "output_type": "execute_result",
     "data": {
      "text/plain": [
       "'https://query1.finance.yahoo.com/v7/finance/download/tsla?period1=1262300400&period2=1577833200&interval=1d&events=history&includeAdjustedClose=true'"
      ]
     },
     "metadata": {},
     "execution_count": 12
    }
   ],
   "metadata": {}
  },
  {
   "cell_type": "code",
   "execution_count": 15,
   "source": [
    "df = pd.read_csv(url)\r\n",
    "df.head()"
   ],
   "outputs": [
    {
     "output_type": "execute_result",
     "data": {
      "text/html": [
       "<div>\n",
       "<style scoped>\n",
       "    .dataframe tbody tr th:only-of-type {\n",
       "        vertical-align: middle;\n",
       "    }\n",
       "\n",
       "    .dataframe tbody tr th {\n",
       "        vertical-align: top;\n",
       "    }\n",
       "\n",
       "    .dataframe thead th {\n",
       "        text-align: right;\n",
       "    }\n",
       "</style>\n",
       "<table border=\"1\" class=\"dataframe\">\n",
       "  <thead>\n",
       "    <tr style=\"text-align: right;\">\n",
       "      <th></th>\n",
       "      <th>Date</th>\n",
       "      <th>Open</th>\n",
       "      <th>High</th>\n",
       "      <th>Low</th>\n",
       "      <th>Close</th>\n",
       "      <th>Adj Close</th>\n",
       "      <th>Volume</th>\n",
       "    </tr>\n",
       "  </thead>\n",
       "  <tbody>\n",
       "    <tr>\n",
       "      <th>0</th>\n",
       "      <td>2010-06-29</td>\n",
       "      <td>3.800</td>\n",
       "      <td>5.000</td>\n",
       "      <td>3.508</td>\n",
       "      <td>4.778</td>\n",
       "      <td>4.778</td>\n",
       "      <td>93831500</td>\n",
       "    </tr>\n",
       "    <tr>\n",
       "      <th>1</th>\n",
       "      <td>2010-06-30</td>\n",
       "      <td>5.158</td>\n",
       "      <td>6.084</td>\n",
       "      <td>4.660</td>\n",
       "      <td>4.766</td>\n",
       "      <td>4.766</td>\n",
       "      <td>85935500</td>\n",
       "    </tr>\n",
       "    <tr>\n",
       "      <th>2</th>\n",
       "      <td>2010-07-01</td>\n",
       "      <td>5.000</td>\n",
       "      <td>5.184</td>\n",
       "      <td>4.054</td>\n",
       "      <td>4.392</td>\n",
       "      <td>4.392</td>\n",
       "      <td>41094000</td>\n",
       "    </tr>\n",
       "    <tr>\n",
       "      <th>3</th>\n",
       "      <td>2010-07-02</td>\n",
       "      <td>4.600</td>\n",
       "      <td>4.620</td>\n",
       "      <td>3.742</td>\n",
       "      <td>3.840</td>\n",
       "      <td>3.840</td>\n",
       "      <td>25699000</td>\n",
       "    </tr>\n",
       "    <tr>\n",
       "      <th>4</th>\n",
       "      <td>2010-07-06</td>\n",
       "      <td>4.000</td>\n",
       "      <td>4.000</td>\n",
       "      <td>3.166</td>\n",
       "      <td>3.222</td>\n",
       "      <td>3.222</td>\n",
       "      <td>34334500</td>\n",
       "    </tr>\n",
       "  </tbody>\n",
       "</table>\n",
       "</div>"
      ],
      "text/plain": [
       "         Date   Open   High    Low  Close  Adj Close    Volume\n",
       "0  2010-06-29  3.800  5.000  3.508  4.778      4.778  93831500\n",
       "1  2010-06-30  5.158  6.084  4.660  4.766      4.766  85935500\n",
       "2  2010-07-01  5.000  5.184  4.054  4.392      4.392  41094000\n",
       "3  2010-07-02  4.600  4.620  3.742  3.840      3.840  25699000\n",
       "4  2010-07-06  4.000  4.000  3.166  3.222      3.222  34334500"
      ]
     },
     "metadata": {},
     "execution_count": 15
    }
   ],
   "metadata": {}
  },
  {
   "cell_type": "markdown",
   "source": [
    "## Dataframe consists of\r\n",
    "* Date in yyyy-mm-dd format\r\n",
    "* Open  : Stock price at the beginning of the day\r\n",
    "* High  : Maximum price during the trading day\r\n",
    "* Low   : Lowest price over the trading day\r\n",
    "* Close : Closing price by the end of the day\r\n",
    "* Adj Close : Closing prices adjusting for splits and dividend payments\r\n",
    "* Volume : Number of shares traded\r\n"
   ],
   "metadata": {}
  },
  {
   "cell_type": "markdown",
   "source": [
    "# Assignment"
   ],
   "metadata": {}
  },
  {
   "cell_type": "markdown",
   "source": [
    "## Exercise 1 (20 points)"
   ],
   "metadata": {}
  },
  {
   "cell_type": "markdown",
   "source": [
    "Create a single dataframe that contains the daily stock price of Apple (aapl), Microsoft (msft), Tesla (tsla), Amazon (amzn), and Facebook (fb). Download only the information between January 1st 2010 and December 31 2020. Keep only the ticker, the date, and the adjusted close price. Use the function `time.sleep(1)` to wait one second before retreiving the data for each ticker. If you run into problems, use a `try except` block to understand where the code fails. \r\n",
    "\r\n",
    "Name the columns in such a way that is easier to access later on"
   ],
   "metadata": {}
  },
  {
   "cell_type": "code",
   "execution_count": 23,
   "source": [
    "tickers = ['aapl', 'msft', 'tsla', 'amzn', 'fb']\r\n",
    "\r\n",
    "before = int(time.mktime(datetime.date(2010,1,1).timetuple()))# Starting date\r\n",
    "today  = int(time.mktime(datetime.date(2020,12,31).timetuple()))# End date\r\n",
    "df = pd.DataFrame()\r\n",
    "for ticker in tickers:\r\n",
    "    time.sleep(1)\r\n",
    "    url=f\"https://query1.finance.yahoo.com/v7/finance/download/{ticker}?period1={before}&period2={today}&interval=1d&events=history&includeAdjustedClose=true\"\r\n",
    "    try: \r\n",
    "        temp = pd.read_csv(url)\r\n",
    "        temp = temp.loc[:, ['Date', 'Adj Close']]\r\n",
    "        temp['Ticker'] = ticker\r\n",
    "        df = df.append(temp)\r\n",
    "    except:\r\n",
    "        print(url)\r\n",
    "\r\n",
    "df = df.rename(columns = {'Date' : 'date', 'Adj Close' : 'prc', 'Ticker': 'ticker'})\r\n",
    "df.head()"
   ],
   "outputs": [
    {
     "output_type": "execute_result",
     "data": {
      "text/html": [
       "<div>\n",
       "<style scoped>\n",
       "    .dataframe tbody tr th:only-of-type {\n",
       "        vertical-align: middle;\n",
       "    }\n",
       "\n",
       "    .dataframe tbody tr th {\n",
       "        vertical-align: top;\n",
       "    }\n",
       "\n",
       "    .dataframe thead th {\n",
       "        text-align: right;\n",
       "    }\n",
       "</style>\n",
       "<table border=\"1\" class=\"dataframe\">\n",
       "  <thead>\n",
       "    <tr style=\"text-align: right;\">\n",
       "      <th></th>\n",
       "      <th>date</th>\n",
       "      <th>prc</th>\n",
       "      <th>ticker</th>\n",
       "    </tr>\n",
       "  </thead>\n",
       "  <tbody>\n",
       "    <tr>\n",
       "      <th>0</th>\n",
       "      <td>2009-12-31</td>\n",
       "      <td>6.462008</td>\n",
       "      <td>aapl</td>\n",
       "    </tr>\n",
       "    <tr>\n",
       "      <th>1</th>\n",
       "      <td>2010-01-04</td>\n",
       "      <td>6.562591</td>\n",
       "      <td>aapl</td>\n",
       "    </tr>\n",
       "    <tr>\n",
       "      <th>2</th>\n",
       "      <td>2010-01-05</td>\n",
       "      <td>6.573935</td>\n",
       "      <td>aapl</td>\n",
       "    </tr>\n",
       "    <tr>\n",
       "      <th>3</th>\n",
       "      <td>2010-01-06</td>\n",
       "      <td>6.469369</td>\n",
       "      <td>aapl</td>\n",
       "    </tr>\n",
       "    <tr>\n",
       "      <th>4</th>\n",
       "      <td>2010-01-07</td>\n",
       "      <td>6.457407</td>\n",
       "      <td>aapl</td>\n",
       "    </tr>\n",
       "  </tbody>\n",
       "</table>\n",
       "</div>"
      ],
      "text/plain": [
       "         date       prc ticker\n",
       "0  2009-12-31  6.462008   aapl\n",
       "1  2010-01-04  6.562591   aapl\n",
       "2  2010-01-05  6.573935   aapl\n",
       "3  2010-01-06  6.469369   aapl\n",
       "4  2010-01-07  6.457407   aapl"
      ]
     },
     "metadata": {},
     "execution_count": 23
    }
   ],
   "metadata": {}
  },
  {
   "cell_type": "markdown",
   "source": [
    "## Exercise 2 (20 Points)"
   ],
   "metadata": {}
  },
  {
   "cell_type": "markdown",
   "source": [
    "Compute daily returns for every ticker by using the adjusted close price. For this sort your data, group it by ticker, and use the apply method. You can use the available function `shift(1)` to compute a one day lag on prices. "
   ],
   "metadata": {}
  },
  {
   "cell_type": "code",
   "execution_count": 31,
   "source": [
    "df = df.sort_values(['ticker', 'date'])\r\n",
    "df['ret'] = df.groupby('ticker').prc.apply(lambda x : (x/x.shift(1)-1))"
   ],
   "outputs": [],
   "metadata": {}
  },
  {
   "cell_type": "code",
   "execution_count": 33,
   "source": [
    "df.head()"
   ],
   "outputs": [
    {
     "output_type": "execute_result",
     "data": {
      "text/html": [
       "<div>\n",
       "<style scoped>\n",
       "    .dataframe tbody tr th:only-of-type {\n",
       "        vertical-align: middle;\n",
       "    }\n",
       "\n",
       "    .dataframe tbody tr th {\n",
       "        vertical-align: top;\n",
       "    }\n",
       "\n",
       "    .dataframe thead th {\n",
       "        text-align: right;\n",
       "    }\n",
       "</style>\n",
       "<table border=\"1\" class=\"dataframe\">\n",
       "  <thead>\n",
       "    <tr style=\"text-align: right;\">\n",
       "      <th></th>\n",
       "      <th>date</th>\n",
       "      <th>prc</th>\n",
       "      <th>ticker</th>\n",
       "      <th>ret</th>\n",
       "    </tr>\n",
       "  </thead>\n",
       "  <tbody>\n",
       "    <tr>\n",
       "      <th>0</th>\n",
       "      <td>2009-12-31</td>\n",
       "      <td>6.462008</td>\n",
       "      <td>aapl</td>\n",
       "      <td>NaN</td>\n",
       "    </tr>\n",
       "    <tr>\n",
       "      <th>1</th>\n",
       "      <td>2010-01-04</td>\n",
       "      <td>6.562591</td>\n",
       "      <td>aapl</td>\n",
       "      <td>0.015565</td>\n",
       "    </tr>\n",
       "    <tr>\n",
       "      <th>2</th>\n",
       "      <td>2010-01-05</td>\n",
       "      <td>6.573935</td>\n",
       "      <td>aapl</td>\n",
       "      <td>0.001729</td>\n",
       "    </tr>\n",
       "    <tr>\n",
       "      <th>3</th>\n",
       "      <td>2010-01-06</td>\n",
       "      <td>6.469369</td>\n",
       "      <td>aapl</td>\n",
       "      <td>-0.015906</td>\n",
       "    </tr>\n",
       "    <tr>\n",
       "      <th>4</th>\n",
       "      <td>2010-01-07</td>\n",
       "      <td>6.457407</td>\n",
       "      <td>aapl</td>\n",
       "      <td>-0.001849</td>\n",
       "    </tr>\n",
       "  </tbody>\n",
       "</table>\n",
       "</div>"
      ],
      "text/plain": [
       "         date       prc ticker       ret\n",
       "0  2009-12-31  6.462008   aapl       NaN\n",
       "1  2010-01-04  6.562591   aapl  0.015565\n",
       "2  2010-01-05  6.573935   aapl  0.001729\n",
       "3  2010-01-06  6.469369   aapl -0.015906\n",
       "4  2010-01-07  6.457407   aapl -0.001849"
      ]
     },
     "metadata": {},
     "execution_count": 33
    }
   ],
   "metadata": {}
  },
  {
   "cell_type": "markdown",
   "source": [
    "## Exercise 3 (40 points)"
   ],
   "metadata": {}
  },
  {
   "cell_type": "markdown",
   "source": [
    "In asset management, the high-water mark is defined as the maximum price that an asset has reached up to some time $t$. \r\n",
    "\r\n",
    "$ HWM_t = \\max \\{ p_s : s \\leq t\\}$\r\n",
    "\r\n",
    "The maximum drawdown is defined as the percentage fall from the high-water mark. \r\n",
    "\r\n",
    "$MDD_t = (p_t - HWM_t)/HWM_t$\r\n",
    "\r\n",
    "\r\n",
    "Using the adjusted close price as $p$ and any method (for loops, apply and lambda functions, etc) compute the high-water mark, and maximum drawdown, for every ticker and every point in time. Include it as a column in the dataframe. When using lags, always verify your data is sorted. Hint: you can use the `pd.DataFrame.cummax` function. "
   ],
   "metadata": {}
  },
  {
   "cell_type": "code",
   "execution_count": 43,
   "source": [
    "df['hwm'] = df.groupby('ticker').prc.cummax()\r\n",
    "df['mdd'] = (df.prc - df['hwm'])/df['hwm']"
   ],
   "outputs": [],
   "metadata": {}
  },
  {
   "cell_type": "code",
   "execution_count": 44,
   "source": [
    "df.head()"
   ],
   "outputs": [
    {
     "output_type": "execute_result",
     "data": {
      "text/html": [
       "<div>\n",
       "<style scoped>\n",
       "    .dataframe tbody tr th:only-of-type {\n",
       "        vertical-align: middle;\n",
       "    }\n",
       "\n",
       "    .dataframe tbody tr th {\n",
       "        vertical-align: top;\n",
       "    }\n",
       "\n",
       "    .dataframe thead th {\n",
       "        text-align: right;\n",
       "    }\n",
       "</style>\n",
       "<table border=\"1\" class=\"dataframe\">\n",
       "  <thead>\n",
       "    <tr style=\"text-align: right;\">\n",
       "      <th></th>\n",
       "      <th>date</th>\n",
       "      <th>prc</th>\n",
       "      <th>ticker</th>\n",
       "      <th>ret</th>\n",
       "      <th>hwm</th>\n",
       "      <th>mdd</th>\n",
       "    </tr>\n",
       "  </thead>\n",
       "  <tbody>\n",
       "    <tr>\n",
       "      <th>0</th>\n",
       "      <td>2009-12-31</td>\n",
       "      <td>6.462008</td>\n",
       "      <td>aapl</td>\n",
       "      <td>NaN</td>\n",
       "      <td>6.462008</td>\n",
       "      <td>0.000000</td>\n",
       "    </tr>\n",
       "    <tr>\n",
       "      <th>1</th>\n",
       "      <td>2010-01-04</td>\n",
       "      <td>6.562591</td>\n",
       "      <td>aapl</td>\n",
       "      <td>0.015565</td>\n",
       "      <td>6.562591</td>\n",
       "      <td>0.000000</td>\n",
       "    </tr>\n",
       "    <tr>\n",
       "      <th>2</th>\n",
       "      <td>2010-01-05</td>\n",
       "      <td>6.573935</td>\n",
       "      <td>aapl</td>\n",
       "      <td>0.001729</td>\n",
       "      <td>6.573935</td>\n",
       "      <td>0.000000</td>\n",
       "    </tr>\n",
       "    <tr>\n",
       "      <th>3</th>\n",
       "      <td>2010-01-06</td>\n",
       "      <td>6.469369</td>\n",
       "      <td>aapl</td>\n",
       "      <td>-0.015906</td>\n",
       "      <td>6.573935</td>\n",
       "      <td>-0.015906</td>\n",
       "    </tr>\n",
       "    <tr>\n",
       "      <th>4</th>\n",
       "      <td>2010-01-07</td>\n",
       "      <td>6.457407</td>\n",
       "      <td>aapl</td>\n",
       "      <td>-0.001849</td>\n",
       "      <td>6.573935</td>\n",
       "      <td>-0.017726</td>\n",
       "    </tr>\n",
       "  </tbody>\n",
       "</table>\n",
       "</div>"
      ],
      "text/plain": [
       "         date       prc ticker       ret       hwm       mdd\n",
       "0  2009-12-31  6.462008   aapl       NaN  6.462008  0.000000\n",
       "1  2010-01-04  6.562591   aapl  0.015565  6.562591  0.000000\n",
       "2  2010-01-05  6.573935   aapl  0.001729  6.573935  0.000000\n",
       "3  2010-01-06  6.469369   aapl -0.015906  6.573935 -0.015906\n",
       "4  2010-01-07  6.457407   aapl -0.001849  6.573935 -0.017726"
      ]
     },
     "metadata": {},
     "execution_count": 44
    }
   ],
   "metadata": {}
  },
  {
   "cell_type": "markdown",
   "source": [
    "## Exercise 4 (20 points)\r\n",
    "\r\n",
    "Pick a ticker in the sample, and plot the price and the high-water mark. Play with the `plt.plot()` function for aesthetics. "
   ],
   "metadata": {}
  },
  {
   "cell_type": "code",
   "execution_count": 50,
   "source": [
    "from matplotlib import pyplot as plt \r\n",
    "\r\n",
    "x = df.loc[df.ticker == 'aapl']\r\n",
    "\r\n",
    "plt.plot(x.date, x.prc, zorder = 1)\r\n",
    "plt.plot(x.date, x.hwm, zorder = 2)"
   ],
   "outputs": [
    {
     "output_type": "execute_result",
     "data": {
      "text/plain": [
       "[<matplotlib.lines.Line2D at 0x19b80033e50>]"
      ]
     },
     "metadata": {},
     "execution_count": 50
    },
    {
     "output_type": "display_data",
     "data": {
      "image/png": "[encoded data removed]",
      "text/plain": [
       "<Figure size 432x288 with 1 Axes>"
      ]
     },
     "metadata": {
      "needs_background": "light"
     }
    }
   ],
   "metadata": {}
  }
 ],
 "metadata": {
  "orig_nbformat": 4,
  "language_info": {
   "name": "python",
   "version": "3.9.6",
   "mimetype": "text/x-python",
   "codemirror_mode": {
    "name": "ipython",
    "version": 3
   },
   "pygments_lexer": "ipython3",
   "nbconvert_exporter": "python",
   "file_extension": ".py"
  },
  "kernelspec": {
   "name": "python3",
   "display_name": "Python 3.9.6 64-bit ('env39': conda)"
  },
  "interpreter": {
   "hash": "8443d68632f1a98dd1fc71cd13e98b6b79aff958cf06fc29b6c796b6d361dac4"
  }
 },
 "nbformat": 4,
 "nbformat_minor": 2
}