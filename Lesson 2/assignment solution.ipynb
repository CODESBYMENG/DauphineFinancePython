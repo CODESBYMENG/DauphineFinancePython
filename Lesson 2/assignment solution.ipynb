{
  "cells": [
    {
      "cell_type": "markdown",
      "source": [
        "# Assignment\n",
        "\n"
      ],
      "metadata": {
        "id": "Z7PKHSFAmZoV"
      }
    },
    {
      "cell_type": "markdown",
      "source": [
        "## Compute by using loops and numpy submatrices the determinant of any square Matrix $X$\n",
        "\n"
      ],
      "metadata": {
        "id": "Z8WHaWgHmZoY"
      }
    },
    {
      "cell_type": "markdown",
      "source": [
        "$\n",
        "X =\\left[\\begin{array}{cccc}\n",
        " x_{11} &  x_{12} & \\cdots &  x_{1n} \\\\\n",
        " x_{12} &  x_{22} & \\cdots &  x_{2n} \\\\\n",
        "\\vdots & \\vdots & \\ddots & \\vdots \\\\\n",
        " x_{n1} &  x_{n2} & \\cdots &  x_{nn}\n",
        "\\end{array}\\right]\n",
        "$"
      ],
      "metadata": {
        "id": "gqvFdCzlmZoa"
      }
    },
    {
      "cell_type": "markdown",
      "source": [
        "If $X$ is a 2 by 2 matrix\n",
        "$\n",
        "det(X) = \\left|\\begin{array}{cc}\n",
        " a &  b  \\\\\n",
        " c &  d  \\\\\n",
        "\\end{array}\\right| = ad-bc\n",
        "$\n"
      ],
      "metadata": {
        "id": "d_IstLWCmZoc"
      }
    },
    {
      "cell_type": "markdown",
      "source": [
        "If $X$ is a $n$ by $n$ matrix, $n>2$\n",
        "\n",
        "$\n",
        "det(X) = x_{11} (-1)^{1+1} M_{11}+x_{12} (-1)^{1+2} M_{12}+\\cdots +  x_{1n} (-1)^{1+n} M_{1n}\n",
        "$\n",
        "\n",
        "where $M_{ij}$ is called the minor element of $x_{ij}$ and is defined recursively as the determinant of the matrix excluding all elements from row $i$ or from column $j$. "
      ],
      "metadata": {
        "id": "c9ycOrXSmZod"
      }
    },
    {
      "cell_type": "code",
      "execution_count": 54,
      "source": [
        "import numpy as np\n",
        "def determinant(X):\n",
        "    # Quick check\n",
        "    if X.shape[0] != X.shape[1]:\n",
        "         raise NameError('X should be a square matrix')\n",
        "\n",
        "    if X.shape[0]==2:\n",
        "        return X[0][0]*X[1][1]-X[1][0]*X[0][1]\n",
        "    else:\n",
        "        # Sum through the formula\n",
        "        det = 0.0\n",
        "        for j in range(X.shape[1]):\n",
        "            Xsub = np.delete(X, 0, 0)\n",
        "            Xsub = np.delete(Xsub, j, 1)\n",
        "            det += X[0][j]*((-1)**j)*determinant(Xsub)\n",
        "    return det"
      ],
      "outputs": [],
      "metadata": {
        "id": "aoKtIkWtmZoe"
      }
    },
    {
      "cell_type": "code",
      "source": [],
      "metadata": {
        "id": "tfJASCKLn7o8",
        "outputId": "c7a060ae-e332-4178-fe26-eac01192255f",
        "colab": {
          "base_uri": "https://localhost:8080/"
        }
      },
      "execution_count": 53,
      "outputs": [
        {
          "output_type": "execute_result",
          "data": {
            "text/plain": [
              "-3"
            ]
          },
          "metadata": {},
          "execution_count": 53
        }
      ]
    },
    {
      "cell_type": "code",
      "execution_count": 52,
      "source": [
        "X = np.array([[1,2,3], [4,5,6], [7, 8, 9]])\n",
        "\n",
        "print(f\"{determinant(X)} vs {np.linalg.det(X)}\")"
      ],
      "outputs": [
        {
          "output_type": "stream",
          "name": "stdout",
          "text": [
            "0.0 vs 0.0\n"
          ]
        }
      ],
      "metadata": {
        "id": "vjfN-Mm0mZog",
        "outputId": "8a29408a-f89a-4200-eb07-55e8989e1c5d",
        "colab": {
          "base_uri": "https://localhost:8080/"
        }
      }
    },
    {
      "cell_type": "code",
      "source": [],
      "metadata": {
        "id": "lg4ycPmYmfu1"
      },
      "execution_count": null,
      "outputs": []
    }
  ],
  "metadata": {
    "orig_nbformat": 4,
    "language_info": {
      "name": "python",
      "version": "3.8.8",
      "mimetype": "text/x-python",
      "codemirror_mode": {
        "name": "ipython",
        "version": 3
      },
      "pygments_lexer": "ipython3",
      "nbconvert_exporter": "python",
      "file_extension": ".py"
    },
    "kernelspec": {
      "name": "python3",
      "display_name": "Python 3.8.8 64-bit ('base': conda)"
    },
    "interpreter": {
      "hash": "3bce3b5366bc5d3beb18138a90777eb607bfd7bcdc5b1b5786ac51c214c88ff2"
    },
    "colab": {
      "provenance": []
    }
  },
  "nbformat": 4,
  "nbformat_minor": 0
}