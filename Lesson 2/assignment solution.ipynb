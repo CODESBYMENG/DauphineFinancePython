{
 "cells": [
  {
   "cell_type": "markdown",
   "source": [
    "# Assignment\r\n",
    "\r\n"
   ],
   "metadata": {}
  },
  {
   "cell_type": "markdown",
   "source": [
    "## Compute by using loops and numpy submatrices the determinant of any square Matrix $X$\r\n",
    "\r\n"
   ],
   "metadata": {}
  },
  {
   "cell_type": "markdown",
   "source": [
    "$\r\n",
    "X =\\left[\\begin{array}{cccc}\r\n",
    " x_{11} &  x_{12} & \\cdots &  x_{1n} \\\\\r\n",
    " x_{12} &  x_{22} & \\cdots &  x_{2n} \\\\\r\n",
    "\\vdots & \\vdots & \\ddots & \\vdots \\\\\r\n",
    " x_{n1} &  x_{n2} & \\cdots &  x_{nn}\r\n",
    "\\end{array}\\right]\r\n",
    "$"
   ],
   "metadata": {}
  },
  {
   "cell_type": "markdown",
   "source": [
    "If $X$ is a 2 by 2 matrix\r\n",
    "$\r\n",
    "det(X) = \\left|\\begin{array}{cc}\r\n",
    " a &  b  \\\\\r\n",
    " c &  d  \\\\\r\n",
    "\\end{array}\\right| = ad-bc\r\n",
    "$\r\n"
   ],
   "metadata": {}
  },
  {
   "cell_type": "markdown",
   "source": [
    "If $X$ is a $n$ by $n$ matrix, $n>2$\r\n",
    "\r\n",
    "$\r\n",
    "det(X) = x_{11} (-1)^{1+1} M_{11}+x_{12} (-1)^{1+2} M_{12}+\\cdots +  x_{1n} (-1)^{1+n} M_{1n}\r\n",
    "$\r\n",
    "\r\n",
    "where $M_{ij}$ is called the minor element of $x_{ij}$ and is defined recursively as the determinant of the matrix excluding all elements from row $i$ or from column $j$. "
   ],
   "metadata": {}
  },
  {
   "cell_type": "code",
   "execution_count": 21,
   "source": [
    "import numpy as np\r\n",
    "def determinant(X):\r\n",
    "    # Quick check\r\n",
    "    if X.shape[0] != X.shape[1]:\r\n",
    "         raise NameError('X should be a square matrix')\r\n",
    "\r\n",
    "    if X.shape[0]==2:\r\n",
    "        return X[0][0]*X[1][1]-X[1][0]*X[0][1]\r\n",
    "    else:\r\n",
    "        # Sum through the formula\r\n",
    "        det = 0.0\r\n",
    "        for j in range(X.shape[1]):\r\n",
    "            Xsub = np.delete(X, 0, 0)\r\n",
    "            Xsub = np.delete(Xsub, j, 1)\r\n",
    "            det += X[0][j]*((-1)^j)*determinant(Xsub)\r\n",
    "    return det"
   ],
   "outputs": [],
   "metadata": {}
  },
  {
   "cell_type": "code",
   "execution_count": 22,
   "source": [
    "X = np.array([[1,2,3], [3,4,5], [6, 7, 8]])\r\n",
    "#X = np.array([[1, 2], [3, 4]])\r\n",
    "print(f\"{determinant(X)} vs {np.linalg.det(X)}\")"
   ],
   "outputs": [
    {
     "output_type": "stream",
     "name": "stdout",
     "text": [
      "78.0 vs -3.7007434154172e-17\n"
     ]
    }
   ],
   "metadata": {}
  }
 ],
 "metadata": {
  "orig_nbformat": 4,
  "language_info": {
   "name": "python",
   "version": "3.8.8",
   "mimetype": "text/x-python",
   "codemirror_mode": {
    "name": "ipython",
    "version": 3
   },
   "pygments_lexer": "ipython3",
   "nbconvert_exporter": "python",
   "file_extension": ".py"
  },
  "kernelspec": {
   "name": "python3",
   "display_name": "Python 3.8.8 64-bit ('base': conda)"
  },
  "interpreter": {
   "hash": "3bce3b5366bc5d3beb18138a90777eb607bfd7bcdc5b1b5786ac51c214c88ff2"
  }
 },
 "nbformat": 4,
 "nbformat_minor": 2
}