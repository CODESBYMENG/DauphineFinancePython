{
 "cells": [
  {
   "cell_type": "markdown",
   "source": [
    "# Assignment\r\n",
    "\r\n"
   ],
   "metadata": {}
  },
  {
   "cell_type": "markdown",
   "source": [
    "## Compute by using loops and numpy submatrices the determinant of any square Matrix $X$\r\n",
    "\r\n"
   ],
   "metadata": {}
  },
  {
   "cell_type": "markdown",
   "source": [
    "$\r\n",
    "X =\\left[\\begin{array}{cccc}\r\n",
    " x_{11} &  x_{12} & \\cdots &  x_{1n} \\\\\r\n",
    " x_{12} &  x_{22} & \\cdots &  x_{2n} \\\\\r\n",
    "\\vdots & \\vdots & \\ddots & \\vdots \\\\\r\n",
    " x_{n1} &  x_{n2} & \\cdots &  x_{nn}\r\n",
    "\\end{array}\\right]\r\n",
    "$"
   ],
   "metadata": {}
  },
  {
   "cell_type": "markdown",
   "source": [
    "If $X$ is a 2 by 2 matrix\r\n",
    "$\r\n",
    "det(X) = \\left|\\begin{array}{cc}\r\n",
    " a &  b  \\\\\r\n",
    " c &  d  \\\\\r\n",
    "\\end{array}\\right| = ad-bc\r\n",
    "$\r\n"
   ],
   "metadata": {}
  },
  {
   "cell_type": "markdown",
   "source": [
    "If $X$ is a $n$ by $n$ matrix, $n>2$\r\n",
    "\r\n",
    "$\r\n",
    "det(X) = x_{11} (-1)^{1+1} M_{11}+x_{12} (-1)^{1+2} M_{12}+\\cdots +  x_{1n} (-1)^{1+n} M_{1n}\r\n",
    "$\r\n",
    "\r\n",
    "where $M_{ij}$ is called the minor element of $x_{ij}$ and is defined recursively as the determinant of the matrix excluding all elements from row $i$ or from column $j$. "
   ],
   "metadata": {}
  },
  {
   "cell_type": "code",
   "execution_count": 29,
   "source": [],
   "outputs": [],
   "metadata": {}
  },
  {
   "cell_type": "markdown",
   "source": [
    "Compare the result of your function with Python's\r\n",
    "`np.linalg.det()` function"
   ],
   "metadata": {}
  },
  {
   "cell_type": "code",
   "execution_count": 31,
   "source": [],
   "outputs": [
    {
     "output_type": "stream",
     "name": "stdout",
     "text": [
      "-0.10065812992776337 vs -0.10065812992776335\n"
     ]
    }
   ],
   "metadata": {}
  }
 ],
 "metadata": {
  "orig_nbformat": 4,
  "language_info": {
   "name": "python",
   "version": "3.8.8",
   "mimetype": "text/x-python",
   "codemirror_mode": {
    "name": "ipython",
    "version": 3
   },
   "pygments_lexer": "ipython3",
   "nbconvert_exporter": "python",
   "file_extension": ".py"
  },
  "kernelspec": {
   "name": "python3",
   "display_name": "Python 3.8.8 64-bit ('base': conda)"
  },
  "interpreter": {
   "hash": "3bce3b5366bc5d3beb18138a90777eb607bfd7bcdc5b1b5786ac51c214c88ff2"
  }
 },
 "nbformat": 4,
 "nbformat_minor": 2
}