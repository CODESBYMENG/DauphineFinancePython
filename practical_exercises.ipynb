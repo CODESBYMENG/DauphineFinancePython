{
  "nbformat": 4,
  "nbformat_minor": 0,
  "metadata": {
    "colab": {
      "provenance": [],
      "collapsed_sections": [],
      "authorship_tag": "ABX9TyMth7BKUwGRqr5iCaxlAf2s",
      "include_colab_link": true
    },
    "kernelspec": {
      "name": "python3",
      "display_name": "Python 3"
    },
    "language_info": {
      "name": "python"
    }
  },
  "cells": [
    {
      "cell_type": "markdown",
      "metadata": {
        "id": "view-in-github",
        "colab_type": "text"
      },
      "source": [
        "<a href=\"https://colab.research.google.com/github/jfimbett/DauphineFinancePython/blob/main/practical_exercises.ipynb\" target=\"_parent\"><img src=\"https://colab.research.google.com/assets/colab-badge.svg\" alt=\"Open In Colab\"/></a>"
      ]
    },
    {
      "cell_type": "markdown",
      "source": [
        "# Practical Exercises\n",
        "\n",
        "# Python for Finance - Paris Dauphine M203\n",
        "\n"
      ],
      "metadata": {
        "id": "t4ST3xksSbjY"
      }
    },
    {
      "cell_type": "markdown",
      "source": [
        "# Part 1: Code and simulate N-dimensional random walks"
      ],
      "metadata": {
        "id": "do56KEpFCsqW"
      }
    },
    {
      "cell_type": "markdown",
      "source": [
        "# Consider a 2D integer grid indexed by $i \\in \\mathbb{Z}$ and $j \\in \\mathbb{Z}$ and a random walk $X_t$ that can take any value in the set $\\Omega=\\{ (i,j) \\text{   } \\forall i \\in \\mathbb{Z} \\text{  }j \\in \\mathbb{Z}\\}$. Time $t$ is discrete, and given $X_t = (i,j)$ , $X_{t+1}$ can take any of the following four values with equal probability\n",
        "\n",
        "$X_{t+1}|X_t \\in \\{(i-1,j), (i+1,j), (i, j+1), (i, j-1)\\}$\n"
      ],
      "metadata": {
        "id": "-nPDi3GcTGO1"
      }
    },
    {
      "cell_type": "markdown",
      "source": [
        "## Create a function that given initial coordinates $(i_0, j_0)$ simulates a 2D random walk for $N$ steps. Plot the random walk"
      ],
      "metadata": {
        "id": "8LmJ_u59Ve_3"
      }
    },
    {
      "cell_type": "code",
      "source": [
        "import numpy as np\n",
        "from matplotlib import pyplot as plt\n",
        "# simulate a 2d integer random walk\n",
        "\n",
        "def random_walk_2d(x_0, N):\n",
        "  pass"
      ],
      "metadata": {
        "id": "zcDXWtLkSe3k"
      },
      "execution_count": null,
      "outputs": []
    },
    {
      "cell_type": "markdown",
      "source": [
        "# For a large N $\\approx$ 10000, simulate K $\\approx 100$ random walks starting at $(0,0)$. What % of them returned to the origin atleast once during the simulation?\n",
        "\n"
      ],
      "metadata": {
        "id": "tkHi2ZCJTFz3"
      }
    },
    {
      "cell_type": "code",
      "source": [
        "def simulate_random_walks(N = 50000, K = 100):\n",
        "  pass\n",
        "\n",
        "how_many = simulate_random_walks()"
      ],
      "metadata": {
        "id": "n1m1q9Nggifq"
      },
      "execution_count": null,
      "outputs": []
    },
    {
      "cell_type": "markdown",
      "source": [
        "# Extend the 2D random walk to 3 dimensions, plot a walk of 10000 steps. Recall that you can only modify one coordinate of the random walk at every step"
      ],
      "metadata": {
        "id": "hUT3E366hy6p"
      }
    },
    {
      "cell_type": "code",
      "source": [
        "def random_walk_3D(x_0, N):\n",
        "  pass"
      ],
      "metadata": {
        "id": "FrKsr78TiMJP"
      },
      "execution_count": null,
      "outputs": []
    },
    {
      "cell_type": "markdown",
      "source": [
        "# For a large N $\\approx$ 10000, simulate K $\\approx 100$ random walks starting at $(0,0,0)$. What % of them returned to the origin atleast once during the simulation?"
      ],
      "metadata": {
        "id": "EY39x3zCkOAb"
      }
    },
    {
      "cell_type": "code",
      "source": [
        "def simulate_random_walks_3D(N = 50000, K = 100):\n",
        "  pass"
      ],
      "metadata": {
        "id": "8Vid_ptNkO1S"
      },
      "execution_count": null,
      "outputs": []
    },
    {
      "cell_type": "markdown",
      "source": [
        "# Do you observe any significant difference between the % of random walks in 2d that returned to the origin and the % of random walks in 3d that returned to the origin? Do you know the reason for this and why it happens so abruptly between $2$ and $3$ dimensions? The mathematician Shizuo Kakutani was known to refer to this result with the following quote: \"A drunk man will find his way home, but a drunk bird may get lost forever\""
      ],
      "metadata": {
        "id": "BlPCdRM2kb1c"
      }
    },
    {
      "cell_type": "markdown",
      "source": [
        "* Can you write a function that simulates a random walk for an arbitrary number of dimensions?"
      ],
      "metadata": {
        "id": "ysNKIZnTCU_a"
      }
    },
    {
      "cell_type": "code",
      "source": [
        "def random_walk(x_0, N):\n",
        "  pass"
      ],
      "metadata": {
        "id": "TPqYf55bCc3P"
      },
      "execution_count": 1,
      "outputs": []
    },
    {
      "cell_type": "markdown",
      "source": [
        "#----------------------------------------------\n",
        "# Part 2 - Programming exercises\n",
        "#---------------------------------------------\n",
        "\n",
        "In order to answer each programming question create a function based on the expected input and output of the problem"
      ],
      "metadata": {
        "id": "qsgRcKDc_548"
      }
    },
    {
      "cell_type": "markdown",
      "source": [],
      "metadata": {
        "id": "36iabE1rCKod"
      }
    },
    {
      "cell_type": "markdown",
      "source": [
        "  * Your teacher has given you two integers and asked you to find out how many integers can divide both the numbers. \n",
        "\n",
        "  Input Formatting: There are two integers, a and b as input to the function.\n",
        "\n",
        "  Output Formatting: Print the number of common factors of a and b.\n",
        "\n",
        "Example:\n",
        "\n",
        "Input: 10 15\n",
        "Output: 2\n",
        "\n",
        "Explanation: The common factors of 10 and 15 are 1 and 5. So the answer will be 2."
      ],
      "metadata": {
        "id": "-_7fdfvBAY5r"
      }
    },
    {
      "cell_type": "code",
      "source": [
        "def count_common_factors(a,b):\n",
        "  pass"
      ],
      "metadata": {
        "id": "r2aIVYJ_kyRK"
      },
      "execution_count": null,
      "outputs": []
    },
    {
      "cell_type": "markdown",
      "source": [
        "  * Consider a permutation of numbers from 1 to N written on a paper. Let’s denote the product of its element as ‘prod’ and the sum of its elements as ‘sum’. Given a positive integer N, your task is to determine whether ‘prod’ is divisible by ‘sum’ or not.\n",
        "\n",
        "    Input Format: Each test case will contain an integer N (1<= N <=10^9). It is nothing but the length of the permutation.\n",
        "\n",
        "    Output Format: For each test case, print “YEAH” if ‘prod’ is divisible by ‘sum’, otherwise print “NAH”."
      ],
      "metadata": {
        "id": "fd59PQYxA6vS"
      }
    },
    {
      "cell_type": "code",
      "source": [
        "def does_it_divide(N):\n",
        "  pass"
      ],
      "metadata": {
        "id": "x2XVmLajBGN3"
      },
      "execution_count": null,
      "outputs": []
    },
    {
      "cell_type": "markdown",
      "source": [
        "* Suppose you have given the stock prices for respective days like (100, 180, 260, 310, 40, 535, 695). The stock price for the 1st day is 100, the 2nd day it is 180 and so on. Write a Python program to determine what days an investor should buy and sell the stocks to get the maximum profit. Assume that the investor can always sell the stock (short sale)"
      ],
      "metadata": {
        "id": "1dgm6RIPBw3K"
      }
    },
    {
      "cell_type": "code",
      "source": [
        "def when_to_buy_sell(prices):\n",
        "  pass"
      ],
      "metadata": {
        "id": "pgiA0CHoByCW"
      },
      "execution_count": null,
      "outputs": []
    }
  ]
}