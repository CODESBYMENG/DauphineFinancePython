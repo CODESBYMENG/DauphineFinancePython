{
 "cells": [
  {
   "cell_type": "markdown",
   "metadata": {},
   "source": [
    "# Variables"
   ]
  },
  {
   "cell_type": "markdown",
   "metadata": {},
   "source": [
    "The equal sign (=) is used to assign a value to a variable"
   ]
  },
  {
   "cell_type": "code",
   "execution_count": null,
   "metadata": {},
   "outputs": [],
   "source": [
    "width = 20\n",
    "height = 40\n",
    "width * height"
   ]
  },
  {
   "cell_type": "markdown",
   "metadata": {},
   "source": [
    "Assigning a value to a variable does not print the result in Jupyter"
   ]
  },
  {
   "cell_type": "code",
   "execution_count": null,
   "metadata": {},
   "outputs": [],
   "source": [
    "area = width * height"
   ]
  },
  {
   "cell_type": "markdown",
   "metadata": {},
   "source": [
    "If a variable is not defined, Python will raise an error"
   ]
  },
  {
   "cell_type": "code",
   "execution_count": null,
   "metadata": {},
   "outputs": [],
   "source": [
    "n"
   ]
  },
  {
   "cell_type": "markdown",
   "metadata": {},
   "source": [
    "## Variable Types\n",
    "\n",
    "You can check the type of a variable with the function ```type()```"
   ]
  },
  {
   "cell_type": "code",
   "execution_count": null,
   "metadata": {},
   "outputs": [],
   "source": [
    "type(area) "
   ]
  },
  {
   "cell_type": "markdown",
   "metadata": {},
   "source": [
    "### String variables \n",
    "Strings are variables represented as a sequence of characters. The most used strings consist of alphanumeric characters. They are enclosed by anything that is written single quotes ``` ' ' ``` or by double quotes ``` \" \" ```"
   ]
  },
  {
   "cell_type": "code",
   "execution_count": null,
   "metadata": {},
   "outputs": [],
   "source": [
    "'A String'"
   ]
  },
  {
   "cell_type": "code",
   "execution_count": null,
   "metadata": {},
   "outputs": [],
   "source": [
    "\"Another String\""
   ]
  },
  {
   "cell_type": "code",
   "execution_count": null,
   "metadata": {},
   "outputs": [],
   "source": [
    "'Quotes inside the string aren\\'t a problem, just use a backslash'"
   ]
  },
  {
   "cell_type": "code",
   "execution_count": null,
   "metadata": {},
   "outputs": [],
   "source": [
    "\" You can also type single quotes in a string inside 'double' quotes \""
   ]
  },
  {
   "cell_type": "code",
   "execution_count": null,
   "metadata": {},
   "outputs": [],
   "source": [
    "' Or use \"double\" quotes, inside single quotes'"
   ]
  },
  {
   "cell_type": "markdown",
   "metadata": {},
   "source": [
    "Characters that start with a backslash are called escape sequences, escape sequences allow you to include special characters in strings. To visualize their impact use the function ``` print() ```, in larger projects this is the easiest way to see the progress of your code. "
   ]
  },
  {
   "cell_type": "code",
   "execution_count": null,
   "metadata": {},
   "outputs": [],
   "source": [
    "print(\"Hello, \\n World\") # Add a new line with \\n, equivalent to print(\"Hello, \")  print(\" World\")"
   ]
  },
  {
   "cell_type": "code",
   "execution_count": null,
   "metadata": {},
   "outputs": [],
   "source": [
    "print(\"C:\\\\Users\\\\Some Long Path\\\\...\") # \\\\ Translates into a single backslash, important for file management"
   ]
  },
  {
   "cell_type": "code",
   "execution_count": null,
   "metadata": {},
   "outputs": [],
   "source": [
    "print(r\"Sometimes you don't want to escape quotes ' or backslashes \\ or other escape sequences \\n. Just dont use \\ at the end\")"
   ]
  },
  {
   "cell_type": "code",
   "execution_count": null,
   "metadata": {},
   "outputs": [],
   "source": [
    "print(\"A\\tB\") # \\t represents a tab space, useful to organize and read data\n",
    "print(\"a\\tb\")"
   ]
  },
  {
   "cell_type": "markdown",
   "metadata": {},
   "source": [
    "All python escape sequences can be found in \n"
   ]
  },
  {
   "cell_type": "markdown",
   "metadata": {},
   "source": [
    "https://docs.python.org/3/reference/lexical_analysis.html#strings"
   ]
  },
  {
   "cell_type": "markdown",
   "metadata": {},
   "source": [
    "String literals, are useful for long texts"
   ]
  },
  {
   "cell_type": "code",
   "execution_count": null,
   "metadata": {},
   "outputs": [],
   "source": [
    "print(\"\"\"\\\n",
    "This is a long string\n",
    "With one\n",
    "two\n",
    "or three rows\n",
    "\"\"\") # The first \\ with nothing preceding avoids printing an unnecessary first line"
   ]
  },
  {
   "cell_type": "markdown",
   "metadata": {},
   "source": [
    "### Some useful string functions"
   ]
  },
  {
   "cell_type": "code",
   "execution_count": null,
   "metadata": {},
   "outputs": [],
   "source": [
    "'Hello' 'World' # Automatic concatenation"
   ]
  },
  {
   "cell_type": "code",
   "execution_count": null,
   "metadata": {},
   "outputs": [],
   "source": [
    "'Hello' \"World\" #Work for '' and \"\""
   ]
  },
  {
   "cell_type": "code",
   "execution_count": null,
   "metadata": {},
   "outputs": [],
   "source": [
    "text=('Put several strings together in parenthesis '\n",
    "     'so they can be joined together.')\n",
    "text"
   ]
  },
  {
   "cell_type": "code",
   "execution_count": null,
   "metadata": {},
   "outputs": [],
   "source": [
    "a ='Hello'\n",
    "a 'World' # can't concatenate a variable and a string literal"
   ]
  },
  {
   "cell_type": "code",
   "execution_count": null,
   "metadata": {},
   "outputs": [],
   "source": [
    "a ='Hello'\n",
    "a + ' '+'World' # Use + to concatenate a variable and a string literal"
   ]
  },
  {
   "cell_type": "code",
   "execution_count": null,
   "metadata": {},
   "outputs": [],
   "source": [
    "3*'Hello' # Integers and strings can sometimes be useful for strings that follow a pattern"
   ]
  },
  {
   "cell_type": "markdown",
   "metadata": {},
   "source": [
    "F strings were introduced in python 3.6, and provide the cleanest way to joing strings, and variable values in strings"
   ]
  },
  {
   "cell_type": "code",
   "execution_count": null,
   "metadata": {},
   "outputs": [],
   "source": [
    "age=20\n",
    "name=\"Tom\"\n",
    "message=f\"My name is {name} and I'm {age} years old\" \n",
    "print(message)"
   ]
  },
  {
   "cell_type": "code",
   "execution_count": null,
   "metadata": {},
   "outputs": [],
   "source": [
    "print(f\" If my age is {age} the square of my age is {age**2}\") # Python operations inside strings"
   ]
  },
  {
   "cell_type": "markdown",
   "metadata": {},
   "source": [
    "Characters in strings"
   ]
  },
  {
   "cell_type": "code",
   "execution_count": null,
   "metadata": {},
   "outputs": [],
   "source": [
    "text=\"Hello World\"\n",
    "print(f\"Text: {text}\")\n",
    "print(f\"Last character: {text[-1]}\") \n",
    "print(f\"Second last character: {text[-2]}\") \n",
    "print(f\"Characters from position 0 (included) to 2 (excluded): {text[0:2]}\") #Position 0 is the first position in python, more on this later"
   ]
  },
  {
   "cell_type": "code",
   "execution_count": null,
   "metadata": {},
   "outputs": [],
   "source": [
    "len(text) #The built-in function len() returns the number of characters"
   ]
  },
  {
   "cell_type": "markdown",
   "metadata": {},
   "source": [
    "### Numerical Types"
   ]
  },
  {
   "cell_type": "markdown",
   "metadata": {},
   "source": [
    "#### Integers (int), also known as signed integers. \n",
    "\n",
    "$n \\in \\mathbb{Z}$"
   ]
  },
  {
   "cell_type": "code",
   "execution_count": null,
   "metadata": {},
   "outputs": [],
   "source": [
    "10, 100, -789, 12345679*9 # Python allows to display tuples, more on this later."
   ]
  },
  {
   "cell_type": "markdown",
   "metadata": {},
   "source": [
    "In python 3 ```int``` can represent any integer number, in previous python versions it would only represent ranges based on the operating system architecture. In some tutorials they are divided between ```int``` and ```long```(long integers)"
   ]
  },
  {
   "cell_type": "markdown",
   "metadata": {},
   "source": [
    "### Float (float) - floating point real values.\n",
    "\n",
    "They represent real numbers and are the basis for numerical computing"
   ]
  },
  {
   "cell_type": "code",
   "execution_count": null,
   "metadata": {},
   "outputs": [],
   "source": [
    "7.5, -8.9, float(1), 1/3"
   ]
  },
  {
   "cell_type": "markdown",
   "metadata": {},
   "source": [
    "What numbers can be represented as ```float```? See how floating point numbers are represented"
   ]
  },
  {
   "cell_type": "markdown",
   "metadata": {},
   "source": [
    "### Boolean Variables"
   ]
  },
  {
   "cell_type": "code",
   "execution_count": null,
   "metadata": {},
   "outputs": [],
   "source": [
    "a = True\n",
    "b = False"
   ]
  },
  {
   "cell_type": "code",
   "execution_count": null,
   "metadata": {},
   "outputs": [],
   "source": [
    "type(a)"
   ]
  },
  {
   "cell_type": "code",
   "execution_count": null,
   "metadata": {},
   "outputs": [],
   "source": [
    "a-1 # True boolean variables can be treated as 1 and false variables as 0"
   ]
  },
  {
   "cell_type": "code",
   "execution_count": null,
   "metadata": {},
   "outputs": [],
   "source": [
    "type(a-1) "
   ]
  },
  {
   "cell_type": "markdown",
   "metadata": {},
   "source": [
    "Logical operators, **and**, **or**, and **not**"
   ]
  },
  {
   "cell_type": "code",
   "execution_count": null,
   "metadata": {},
   "outputs": [],
   "source": [
    "print(\"p\\tq\\tp and q\")\n",
    "for p in [True, False]:\n",
    "    for q in [True, False]:\n",
    "        print(f\"{p}\\t{q}\\t{p and q}\")\n",
    "print(\"------\")\n",
    "print(\"p\\tq\\tp or q\")\n",
    "for p in [True, False]:\n",
    "    for q in [True, False]:\n",
    "        print(f\"{p}\\t{q}\\t{p or q}\")\n",
    "print(\"------\")\n",
    "print(\"p\\tnot p\")\n",
    "for p in [True, False]:\n",
    "    print(f\"{p}\\t{not p}\")"
   ]
  },
  {
   "cell_type": "markdown",
   "metadata": {},
   "source": [
    "Logical identities - (Very useful)"
   ]
  },
  {
   "cell_type": "code",
   "execution_count": null,
   "metadata": {},
   "outputs": [],
   "source": [
    "print(\"Double Negation\")\n",
    "print(\"p\\t not not p\")\n",
    "for p in [True, False]:\n",
    "    print(f\"{p}\\t {not not p}\")\n",
    "print(\"------\")\n",
    "print(\"De Morgan's Laws\")\n",
    "print(\"p\\tq\\t not (p or q) \\t not p and not q\")\n",
    "for p in [True, False]:\n",
    "    for q in [True, False]:\n",
    "        print(f\"{p}\\t{q}\\t{not (p or q)}\\t\\t\\t{not p and not q}\")\n",
    "print(\"p\\tq\\t not (p and q) \\t not p or not q\")\n",
    "for p in [True, False]:\n",
    "    for q in [True, False]:\n",
    "        print(f\"{p}\\t{q}\\t{not (p and q)}\\t\\t\\t{not p or not q}\")\n",
    "print(\"----\")\n",
    "print(\"Idempotent laws\")\n",
    "print(\"p\\t p and p\")\n",
    "for p in [True, False]:\n",
    "    print(f\"{p}\\t {p and p}\")\n",
    "print(\"p\\t p or p\")\n",
    "for p in [True, False]:\n",
    "    print(f\"{p}\\t {p or p}\")\n",
    "print(\"----\")\n",
    "print(\"Domination Laws\")\n",
    "print(\"p\\t p and False\")\n",
    "for p in [True, False]:\n",
    "    print(f\"{p}\\t{p and False}\")\n",
    "print(\"p\\t p or True\")\n",
    "for p in [True, False]:\n",
    "    print(f\"{p}\\t{p or True}\")"
   ]
  },
  {
   "cell_type": "markdown",
   "metadata": {},
   "source": [
    "## Lists"
   ]
  },
  {
   "cell_type": "markdown",
   "metadata": {},
   "source": [
    "Python knows a number of compound data types, used to group together other values. Lists are the most used"
   ]
  },
  {
   "cell_type": "code",
   "execution_count": null,
   "metadata": {},
   "outputs": [],
   "source": [
    "primes = [2, 3, 5, 7, 11, 13]\n",
    "print(primes[0]) # First element of a list is obtained with the index 0\n",
    "print(primes[5]) # Last element of a list is obtained with the index N - 1"
   ]
  },
  {
   "cell_type": "markdown",
   "metadata": {},
   "source": [
    "Just like with strings, you can slice elements of a list"
   ]
  },
  {
   "cell_type": "code",
   "execution_count": null,
   "metadata": {},
   "outputs": [],
   "source": [
    "primes[2:] # Start at index 2 until the end"
   ]
  },
  {
   "cell_type": "code",
   "execution_count": null,
   "metadata": {},
   "outputs": [],
   "source": [
    "primes[-3:] # Last 3 elements\n",
    "primes"
   ]
  },
  {
   "cell_type": "code",
   "execution_count": null,
   "metadata": {},
   "outputs": [],
   "source": [
    "primes[0] = 2.0 # Nor like strings, lists are mutable so you can modify existing elements\n",
    "primes"
   ]
  },
  {
   "cell_type": "code",
   "execution_count": null,
   "metadata": {},
   "outputs": [],
   "source": [
    "primes.append(17)# Adds an element to the end of the list, returns a copy which replaces the original list\n",
    "primes"
   ]
  },
  {
   "cell_type": "code",
   "execution_count": null,
   "metadata": {},
   "outputs": [],
   "source": [
    "len(primes) # Length of the list"
   ]
  },
  {
   "cell_type": "code",
   "execution_count": null,
   "metadata": {},
   "outputs": [],
   "source": []
  }
 ],
 "metadata": {
  "kernelspec": {
   "display_name": "env39",
   "language": "python",
   "name": "env39"
  },
  "language_info": {
   "codemirror_mode": {
    "name": "ipython",
    "version": 3
   },
   "file_extension": ".py",
   "mimetype": "text/x-python",
   "name": "python",
   "nbconvert_exporter": "python",
   "pygments_lexer": "ipython3",
   "version": "3.9.6"
  }
 },
 "nbformat": 4,
 "nbformat_minor": 4
}
