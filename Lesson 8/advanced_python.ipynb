{
  "cells": [
    {
      "cell_type": "markdown",
      "metadata": {
        "id": "vkTbo-650JKR"
      },
      "source": [
        "# Magic Methods - Dunders\n",
        "\n",
        "## Dunders __ (double underscore) are used for special methods that Python reserves for classes"
      ]
    },
    {
      "cell_type": "code",
      "execution_count": 1,
      "metadata": {
        "id": "VIxqGqb00JKU"
      },
      "outputs": [],
      "source": [
        "class Person:\n",
        "    \n",
        "    def __init__(self, name, age):\n",
        "        self.name = name\n",
        "        self.age  = age"
      ]
    },
    {
      "cell_type": "code",
      "execution_count": 2,
      "metadata": {
        "id": "rblApP6q0JKV",
        "outputId": "ab7601dd-cbd4-40f0-d5ee-2cbcd3bae136",
        "colab": {
          "base_uri": "https://localhost:8080/"
        }
      },
      "outputs": [
        {
          "output_type": "execute_result",
          "data": {
            "text/plain": [
              "<__main__.Person at 0x7f6e30b1c590>"
            ]
          },
          "metadata": {},
          "execution_count": 2
        }
      ],
      "source": [
        "person = Person(\"Ana\", 25) # You dont call the __init__ method directly\n",
        "person"
      ]
    },
    {
      "cell_type": "code",
      "execution_count": 3,
      "metadata": {
        "id": "L5WLAWlv0JKW",
        "outputId": "53a3dc0e-8f77-4a71-e624-3992f97db24b",
        "colab": {
          "base_uri": "https://localhost:8080/"
        }
      },
      "outputs": [
        {
          "output_type": "stream",
          "name": "stdout",
          "text": [
            "Ana is 25 years old\n"
          ]
        }
      ],
      "source": [
        "print(f\"{person.name} is {person.age} years old\")"
      ]
    },
    {
      "cell_type": "code",
      "execution_count": 4,
      "metadata": {
        "id": "0f64qFMX0JKW"
      },
      "outputs": [],
      "source": [
        "class Person:\n",
        "    \n",
        "    def __init__(self, name, age):\n",
        "        self.name = name\n",
        "        self.age  = age\n",
        "\n",
        "    def __del__(self):\n",
        "        print(f\"{self.name} has been deleted\")"
      ]
    },
    {
      "cell_type": "code",
      "execution_count": 5,
      "metadata": {
        "id": "Ye7Zu44u0JKX"
      },
      "outputs": [],
      "source": [
        "person = Person(\"Mike\", 30)"
      ]
    },
    {
      "cell_type": "code",
      "execution_count": 6,
      "metadata": {
        "id": "ePHBH53N0JKX",
        "outputId": "8a65f711-a37c-4f08-c572-c2294ccd1242",
        "colab": {
          "base_uri": "https://localhost:8080/"
        }
      },
      "outputs": [
        {
          "output_type": "stream",
          "name": "stdout",
          "text": [
            "Mike has been deleted\n"
          ]
        }
      ],
      "source": [
        "del person"
      ]
    },
    {
      "cell_type": "code",
      "execution_count": 9,
      "metadata": {
        "id": "LQ8RccM70JKY"
      },
      "outputs": [],
      "source": [
        "class Vector:\n",
        "    \n",
        "    def __init__(self, x, y):\n",
        "        self.x = x\n",
        "        self.y  = y\n",
        "\n",
        "v1 = Vector(10, 20)\n",
        "v2 = Vector(50, 60)\n",
        "\n",
        "#v3 = v1 + v2\n",
        "\n",
        "    "
      ]
    },
    {
      "cell_type": "code",
      "execution_count": 10,
      "metadata": {
        "id": "g7r2wJ2C0JKZ",
        "outputId": "52c6f1d9-3fd0-4949-b0b5-7e35b2599d15",
        "colab": {
          "base_uri": "https://localhost:8080/"
        }
      },
      "outputs": [
        {
          "output_type": "stream",
          "name": "stdout",
          "text": [
            "60 80\n"
          ]
        }
      ],
      "source": [
        "class Vector:\n",
        "    \n",
        "    def __init__(self, x, y):\n",
        "        self.x = x\n",
        "        self.y  = y\n",
        "\n",
        "    def __add__(self, other):\n",
        "        return Vector(self.x+other.x, self.y + other.y)\n",
        "\n",
        "v1 = Vector(10, 20)\n",
        "v2 = Vector(50, 60)\n",
        "\n",
        "v3 = v1 + v2\n",
        "print(f\"{v3.x} {v3.y}\")"
      ]
    },
    {
      "cell_type": "code",
      "execution_count": 57,
      "metadata": {
        "id": "SZYO6kbo0JKa",
        "outputId": "78937885-6fe9-4e66-9549-098376f6c3e5",
        "colab": {
          "base_uri": "https://localhost:8080/"
        }
      },
      "outputs": [
        {
          "output_type": "execute_result",
          "data": {
            "text/plain": [
              "True"
            ]
          },
          "metadata": {},
          "execution_count": 57
        }
      ],
      "source": [
        "import math \n",
        "\n",
        "class ComplexNumber:\n",
        "    \n",
        "    def __init__(self, a, b):\n",
        "        self.a  = a\n",
        "        self.b  = b\n",
        "\n",
        "    def __repr__(self):\n",
        "        s = f\"{self.a}+{self.b}i\" if self.b >=0 else f\"{self.a}-{self.b}i\"\n",
        "        return s\n",
        "    \n",
        "    def __add__(self, other):\n",
        "        return ComplexNumber(self.a+other.a, self.b + other.b)\n",
        "\n",
        "    def __sub__(self, other):\n",
        "        return ComplexNumber(self.a-other.a, self.b - other.b)\n",
        "\n",
        "    def __neg__(self):\n",
        "         return ComplexNumber(- self.a, - self.b)\n",
        "\n",
        "    def __mul__(self, other):\n",
        "        return ComplexNumber(self.a*other.a-self.b*other.b, self.a*other.b+self.b*other.a)\n",
        "\n",
        "    def __truediv__(self, other):\n",
        "        if other.a==0 and other.b==0:\n",
        "            raise ZeroDivisionError\n",
        "        else:\n",
        "            # Finds the conjugate of the denominator\n",
        "            conjugate = ComplexNumber(other.a, - other.b)\n",
        "            numerator   = self*conjugate\n",
        "            denominator = other*conjugate\n",
        "            return ComplexNumber(numerator.a/denominator.a, numerator.b/denominator.a)\n",
        "\n",
        "    def modulus(self):\n",
        "      return math.sqrt(self.a**2 + self.b**2)\n",
        "\n",
        "    def __gt__(self, other):\n",
        "      return self.modulus() > other.modulus()\n",
        "\n",
        "    def __lt__(self, other):\n",
        "      return self.modulus() < other.modulus()\n",
        "\n",
        "    def __ge__(self, other):\n",
        "      return self.modulus() >= other.modulus()\n",
        "\n",
        "    def __le__(self, other):\n",
        "      return self.modulus() <= other.modulus()\n",
        "\n",
        "    def __len__(self):\n",
        "        return 2\n",
        "\n",
        "\n",
        "\n",
        "v1 = ComplexNumber(1, 5)\n",
        "v2 = ComplexNumber(2, -7)\n",
        "\n",
        "v3 = v1-v2\n",
        "v3 >= v1\n",
        "\n",
        "\n"
      ]
    },
    {
      "cell_type": "code",
      "source": [
        "# what are the dunders used in math?\n",
        "dir(type(1.0))"
      ],
      "metadata": {
        "id": "wPitOXurbLWM",
        "outputId": "eda71a80-43bb-46f5-81dd-f5e924614cfc",
        "colab": {
          "base_uri": "https://localhost:8080/"
        }
      },
      "execution_count": 58,
      "outputs": [
        {
          "output_type": "execute_result",
          "data": {
            "text/plain": [
              "['__abs__',\n",
              " '__add__',\n",
              " '__bool__',\n",
              " '__class__',\n",
              " '__delattr__',\n",
              " '__dir__',\n",
              " '__divmod__',\n",
              " '__doc__',\n",
              " '__eq__',\n",
              " '__float__',\n",
              " '__floordiv__',\n",
              " '__format__',\n",
              " '__ge__',\n",
              " '__getattribute__',\n",
              " '__getformat__',\n",
              " '__getnewargs__',\n",
              " '__gt__',\n",
              " '__hash__',\n",
              " '__init__',\n",
              " '__init_subclass__',\n",
              " '__int__',\n",
              " '__le__',\n",
              " '__lt__',\n",
              " '__mod__',\n",
              " '__mul__',\n",
              " '__ne__',\n",
              " '__neg__',\n",
              " '__new__',\n",
              " '__pos__',\n",
              " '__pow__',\n",
              " '__radd__',\n",
              " '__rdivmod__',\n",
              " '__reduce__',\n",
              " '__reduce_ex__',\n",
              " '__repr__',\n",
              " '__rfloordiv__',\n",
              " '__rmod__',\n",
              " '__rmul__',\n",
              " '__round__',\n",
              " '__rpow__',\n",
              " '__rsub__',\n",
              " '__rtruediv__',\n",
              " '__set_format__',\n",
              " '__setattr__',\n",
              " '__sizeof__',\n",
              " '__str__',\n",
              " '__sub__',\n",
              " '__subclasshook__',\n",
              " '__truediv__',\n",
              " '__trunc__',\n",
              " 'as_integer_ratio',\n",
              " 'conjugate',\n",
              " 'fromhex',\n",
              " 'hex',\n",
              " 'imag',\n",
              " 'is_integer',\n",
              " 'real']"
            ]
          },
          "metadata": {},
          "execution_count": 58
        }
      ]
    },
    {
      "cell_type": "markdown",
      "metadata": {
        "id": "pyI61uf50JKc"
      },
      "source": [
        "# Decorators"
      ]
    },
    {
      "cell_type": "markdown",
      "metadata": {
        "id": "MPQyNWCA0JKc"
      },
      "source": [
        "## Wraps a function with extra functionality"
      ]
    },
    {
      "cell_type": "code",
      "execution_count": 12,
      "metadata": {
        "id": "Wo7UQFI_0JKc"
      },
      "outputs": [],
      "source": [
        "import time\n",
        "def timing(function):\n",
        "\n",
        "    def wrapper(*args, **kwargs):\n",
        "        now = time.time()\n",
        "        result = function(*args, **kwargs)\n",
        "        end = time.time()\n",
        "        print(f\"Your function took {round(end-now,4)} seconds\")\n",
        "        return result\n",
        "\n",
        "    return wrapper\n"
      ]
    },
    {
      "cell_type": "code",
      "execution_count": 13,
      "metadata": {
        "id": "jNKNWD950JKc",
        "outputId": "261f552e-bb2e-40a7-fc53-29b86f368162",
        "colab": {
          "base_uri": "https://localhost:8080/"
        }
      },
      "outputs": [
        {
          "output_type": "stream",
          "name": "stdout",
          "text": [
            "Your function took 0.0 seconds\n"
          ]
        },
        {
          "output_type": "execute_result",
          "data": {
            "text/plain": [
              "45"
            ]
          },
          "metadata": {},
          "execution_count": 13
        }
      ],
      "source": [
        "@timing\n",
        "def sum_to(n):\n",
        "    return int(n*(n-1)/2)\n",
        "\n",
        "sum_to(10)"
      ]
    },
    {
      "cell_type": "code",
      "execution_count": 14,
      "metadata": {
        "id": "7wEC-qym0JKd"
      },
      "outputs": [],
      "source": [
        "@timing \n",
        "def is_prime(n: int) -> bool:\n",
        "    \"\"\"Primality test using 6k+-1 optimization.\"\"\"\n",
        "    if n <= 3:\n",
        "        return n > 1\n",
        "    if n % 2 == 0 or n % 3 == 0:\n",
        "        return False\n",
        "    i = 5\n",
        "    while i ** 2 <= n:\n",
        "        if n % i == 0 or n % (i + 2) == 0:\n",
        "            return False\n",
        "        i += 6\n",
        "    return True"
      ]
    },
    {
      "cell_type": "code",
      "execution_count": 17,
      "metadata": {
        "id": "IIeDYsrm0JKl",
        "outputId": "399d37bc-dac7-42d5-b813-ba62df9585e0",
        "colab": {
          "base_uri": "https://localhost:8080/"
        }
      },
      "outputs": [
        {
          "output_type": "stream",
          "name": "stdout",
          "text": [
            "Your function took 0.0 seconds\n"
          ]
        },
        {
          "output_type": "execute_result",
          "data": {
            "text/plain": [
              "False"
            ]
          },
          "metadata": {},
          "execution_count": 17
        }
      ],
      "source": [
        "is_prime(2**20-1)"
      ]
    },
    {
      "cell_type": "code",
      "execution_count": 18,
      "metadata": {
        "id": "yUMY70g-0JKn"
      },
      "outputs": [],
      "source": [
        "fact = lambda n : 1 if n==0 else n*fact(n-1) "
      ]
    },
    {
      "cell_type": "code",
      "execution_count": 19,
      "metadata": {
        "id": "vwTSA_Eg0JKo",
        "outputId": "e73dfdec-f346-45b3-a1cb-b599f844133c",
        "colab": {
          "base_uri": "https://localhost:8080/"
        }
      },
      "outputs": [
        {
          "output_type": "stream",
          "name": "stdout",
          "text": [
            "Your function took 0.0 seconds\n"
          ]
        },
        {
          "output_type": "execute_result",
          "data": {
            "text/plain": [
              "False"
            ]
          },
          "metadata": {},
          "execution_count": 19
        }
      ],
      "source": [
        "is_prime(fact(100))"
      ]
    },
    {
      "cell_type": "code",
      "execution_count": 20,
      "metadata": {
        "id": "N8oD9ZBH0JKo",
        "outputId": "7a317ab8-caa2-4a65-c71e-a1ff428ee715",
        "colab": {
          "base_uri": "https://localhost:8080/"
        }
      },
      "outputs": [
        {
          "output_type": "stream",
          "name": "stdout",
          "text": [
            "Your function took 0.0 seconds\n"
          ]
        },
        {
          "output_type": "execute_result",
          "data": {
            "text/plain": [
              "True"
            ]
          },
          "metadata": {},
          "execution_count": 20
        }
      ],
      "source": [
        "is_prime(101)"
      ]
    },
    {
      "cell_type": "code",
      "source": [
        "# the @dataclass generator"
      ],
      "metadata": {
        "id": "i-3VpRMNLlzx"
      },
      "execution_count": null,
      "outputs": []
    },
    {
      "cell_type": "code",
      "source": [
        "from dataclasses import dataclass\n",
        "@dataclass\n",
        "class Person:\n",
        "  name : str\n",
        "  age : int\n",
        "\n",
        "p = Person('John', 44)\n",
        "print(p)"
      ],
      "metadata": {
        "id": "xpSYoeqITOCB",
        "outputId": "5cc6485a-0c3f-4e8f-8a0b-cd742afff1f7",
        "colab": {
          "base_uri": "https://localhost:8080/"
        }
      },
      "execution_count": 42,
      "outputs": [
        {
          "output_type": "stream",
          "name": "stdout",
          "text": [
            "Person(name='John', age=44)\n"
          ]
        }
      ]
    },
    {
      "cell_type": "code",
      "source": [
        "# default values\n",
        "@dataclass \n",
        "class Person:\n",
        "  name : str = 'unknown'\n",
        "  age : int = 0\n",
        "\n",
        "p = Person(name = 'Maria', age = '25')\n",
        "print(p)\n",
        "\n",
        "\n"
      ],
      "metadata": {
        "id": "Ddxz_6SuXBg3",
        "outputId": "01d1fe3c-a276-49d3-9d56-951ab33870a3",
        "colab": {
          "base_uri": "https://localhost:8080/"
        }
      },
      "execution_count": 43,
      "outputs": [
        {
          "output_type": "stream",
          "name": "stdout",
          "text": [
            "Person(name='Maria', age='25')\n"
          ]
        }
      ]
    },
    {
      "cell_type": "code",
      "source": [
        "# add new element\n",
        "p.occupation = 'Carpenter'\n",
        "print(p.occupation)"
      ],
      "metadata": {
        "id": "0m4VscAoXgE0",
        "outputId": "c248b7e2-6449-46b0-d2f6-07eea5d69206",
        "colab": {
          "base_uri": "https://localhost:8080/"
        }
      },
      "execution_count": 45,
      "outputs": [
        {
          "output_type": "stream",
          "name": "stdout",
          "text": [
            "Carpenter\n"
          ]
        }
      ]
    },
    {
      "cell_type": "code",
      "source": [
        "# what if you dont want to modify your structure?\n",
        "@dataclass(frozen = True)\n",
        "class Person:\n",
        "  name : str\n",
        "  age : int\n",
        "\n",
        "p = Person('Charles', 100)\n",
        "p.occupation = 'Professor'"
      ],
      "metadata": {
        "id": "EdxXeAz4XtSS",
        "outputId": "8bb3a745-f5f4-475d-c6bf-6bd640e307d3",
        "colab": {
          "base_uri": "https://localhost:8080/",
          "height": 244
        }
      },
      "execution_count": 46,
      "outputs": [
        {
          "output_type": "error",
          "ename": "FrozenInstanceError",
          "evalue": "ignored",
          "traceback": [
            "\u001b[0;31m---------------------------------------------------------------------------\u001b[0m",
            "\u001b[0;31mFrozenInstanceError\u001b[0m                       Traceback (most recent call last)",
            "\u001b[0;32m<ipython-input-46-949c38893f27>\u001b[0m in \u001b[0;36m<module>\u001b[0;34m\u001b[0m\n\u001b[1;32m      6\u001b[0m \u001b[0;34m\u001b[0m\u001b[0m\n\u001b[1;32m      7\u001b[0m \u001b[0mp\u001b[0m \u001b[0;34m=\u001b[0m \u001b[0mPerson\u001b[0m\u001b[0;34m(\u001b[0m\u001b[0;34m'Charles'\u001b[0m\u001b[0;34m,\u001b[0m \u001b[0;36m100\u001b[0m\u001b[0;34m)\u001b[0m\u001b[0;34m\u001b[0m\u001b[0;34m\u001b[0m\u001b[0m\n\u001b[0;32m----> 8\u001b[0;31m \u001b[0mp\u001b[0m\u001b[0;34m.\u001b[0m\u001b[0moccupation\u001b[0m \u001b[0;34m=\u001b[0m \u001b[0;34m'Professor'\u001b[0m\u001b[0;34m\u001b[0m\u001b[0;34m\u001b[0m\u001b[0m\n\u001b[0m",
            "\u001b[0;32m<string>\u001b[0m in \u001b[0;36m__setattr__\u001b[0;34m(self, name, value)\u001b[0m\n",
            "\u001b[0;31mFrozenInstanceError\u001b[0m: cannot assign to field 'occupation'"
          ]
        }
      ]
    },
    {
      "cell_type": "code",
      "source": [
        "# we can create a dict from a dataclass\n",
        "from dataclasses import asdict\n",
        "@dataclass\n",
        "class Person:\n",
        "  name : str\n",
        "  age : int\n",
        "  occupation : str\n",
        "p = Person('David', 31, 'Manager')\n",
        "asdict(p)"
      ],
      "metadata": {
        "id": "1IHpJXZDYE8Q",
        "outputId": "a1911695-5377-4abf-8fe1-7f675601db3e",
        "colab": {
          "base_uri": "https://localhost:8080/"
        }
      },
      "execution_count": 48,
      "outputs": [
        {
          "output_type": "execute_result",
          "data": {
            "text/plain": [
              "{'name': 'David', 'age': 31, 'occupation': 'Manager'}"
            ]
          },
          "metadata": {},
          "execution_count": 48
        }
      ]
    },
    {
      "cell_type": "code",
      "source": [
        "# with the field function we can provide some additional information\n",
        "from dataclasses import field\n",
        "\n",
        "@dataclass\n",
        "class Person:\n",
        "  name : str\n",
        "  age : int\n",
        "  occupation: str = field(init = False, repr=False)\n",
        "\n",
        "p = Person('David', 20)\n",
        "print(p)\n",
        "\n",
        "p.occupation = 'Gardener'\n",
        "print(f'{p.name} is a {p.occupation}')"
      ],
      "metadata": {
        "id": "aNFnSP-RYbzQ",
        "outputId": "5279c125-345f-4fcb-d1db-c0e56786cc6e",
        "colab": {
          "base_uri": "https://localhost:8080/"
        }
      },
      "execution_count": 49,
      "outputs": [
        {
          "output_type": "stream",
          "name": "stdout",
          "text": [
            "Person(name='David', age=20)\n",
            "David is a Gardener\n"
          ]
        }
      ]
    },
    {
      "cell_type": "markdown",
      "metadata": {
        "id": "0BZmoX_X0JKp"
      },
      "source": [
        "# Generators"
      ]
    },
    {
      "cell_type": "markdown",
      "metadata": {
        "id": "Isl40rDd0JKq"
      },
      "source": [
        "## Generators allow you to enumerate long sequences in a memory efficient manner"
      ]
    },
    {
      "cell_type": "code",
      "execution_count": 21,
      "metadata": {
        "id": "SkiM-OmY0JKr"
      },
      "outputs": [],
      "source": [
        "def numbers_to_n(n):\n",
        "    for i in range(n):\n",
        "        yield i+1"
      ]
    },
    {
      "cell_type": "code",
      "execution_count": 22,
      "metadata": {
        "id": "ECJ4t1mr0JKs",
        "outputId": "aaaed402-024c-4e79-bceb-295d2fcfd5cb",
        "colab": {
          "base_uri": "https://localhost:8080/"
        }
      },
      "outputs": [
        {
          "output_type": "execute_result",
          "data": {
            "text/plain": [
              "<generator object numbers_to_n at 0x7f6e30b1a650>"
            ]
          },
          "metadata": {},
          "execution_count": 22
        }
      ],
      "source": [
        "numbers = numbers_to_n(100)\n",
        "numbers"
      ]
    },
    {
      "cell_type": "code",
      "execution_count": 23,
      "metadata": {
        "id": "2Abi0Snv0JKt",
        "outputId": "2eab17f8-8e80-431e-f8b8-a3ee490b8779",
        "colab": {
          "base_uri": "https://localhost:8080/"
        }
      },
      "outputs": [
        {
          "output_type": "execute_result",
          "data": {
            "text/plain": [
              "1"
            ]
          },
          "metadata": {},
          "execution_count": 23
        }
      ],
      "source": [
        "next(numbers)"
      ]
    },
    {
      "cell_type": "code",
      "execution_count": 24,
      "metadata": {
        "id": "GU74cAem0JKu",
        "outputId": "8f0e7e51-3871-4985-c1d5-2d6f0a350d82",
        "colab": {
          "base_uri": "https://localhost:8080/"
        }
      },
      "outputs": [
        {
          "output_type": "execute_result",
          "data": {
            "text/plain": [
              "2"
            ]
          },
          "metadata": {},
          "execution_count": 24
        }
      ],
      "source": [
        "next(numbers)"
      ]
    },
    {
      "cell_type": "markdown",
      "metadata": {
        "id": "sm00nIEf0JKv"
      },
      "source": [
        "## Example, return all possible card deck combinations in a deck of 52 "
      ]
    },
    {
      "cell_type": "markdown",
      "metadata": {
        "id": "e_pySvAo0JKw"
      },
      "source": [
        "## How much memory would it take to enumerate them all?\n",
        "\n",
        "Permutations * length of permutation * memory of each element"
      ]
    },
    {
      "cell_type": "code",
      "execution_count": 25,
      "metadata": {
        "id": "Trdn6nEO0JKw",
        "outputId": "a6f29971-8656-4522-c11a-8724bd72ff1b",
        "colab": {
          "base_uri": "https://localhost:8080/"
        }
      },
      "outputs": [
        {
          "output_type": "execute_result",
          "data": {
            "text/plain": [
              "['A♠',\n",
              " '2♠',\n",
              " '3♠',\n",
              " '4♠',\n",
              " '5♠',\n",
              " '6♠',\n",
              " '7♠',\n",
              " '8♠',\n",
              " '9♠',\n",
              " '10♠',\n",
              " 'J♠',\n",
              " 'Q♠',\n",
              " 'K♠',\n",
              " 'A♥',\n",
              " '2♥',\n",
              " '3♥',\n",
              " '4♥',\n",
              " '5♥',\n",
              " '6♥',\n",
              " '7♥',\n",
              " '8♥',\n",
              " '9♥',\n",
              " '10♥',\n",
              " 'J♥',\n",
              " 'Q♥',\n",
              " 'K♥',\n",
              " 'A♣',\n",
              " '2♣',\n",
              " '3♣',\n",
              " '4♣',\n",
              " '5♣',\n",
              " '6♣',\n",
              " '7♣',\n",
              " '8♣',\n",
              " '9♣',\n",
              " '10♣',\n",
              " 'J♣',\n",
              " 'Q♣',\n",
              " 'K♣',\n",
              " 'A♦',\n",
              " '2♦',\n",
              " '3♦',\n",
              " '4♦',\n",
              " '5♦',\n",
              " '6♦',\n",
              " '7♦',\n",
              " '8♦',\n",
              " '9♦',\n",
              " '10♦',\n",
              " 'J♦',\n",
              " 'Q♦',\n",
              " 'K♦']"
            ]
          },
          "metadata": {},
          "execution_count": 25
        }
      ],
      "source": [
        "deck = [f\"{n}{s}\"  for s  in ['♠', '♥', '♣', '♦'] for n in ['A', 2, 3, 4, 5, 6, 7, 8, 9, 10, 'J', 'Q', 'K']]\n",
        "deck"
      ]
    },
    {
      "cell_type": "code",
      "execution_count": 26,
      "metadata": {
        "id": "FAVRQjRV0JKx",
        "outputId": "7512c520-5a8e-4796-bfd9-4017dd29c5f9",
        "colab": {
          "base_uri": "https://localhost:8080/"
        }
      },
      "outputs": [
        {
          "output_type": "execute_result",
          "data": {
            "text/plain": [
              "52"
            ]
          },
          "metadata": {},
          "execution_count": 26
        }
      ],
      "source": [
        "len(deck)"
      ]
    },
    {
      "cell_type": "code",
      "source": [
        "# How much memory would it take to store all possible decks?"
      ],
      "metadata": {
        "id": "nA8J4qI3bZ_o"
      },
      "execution_count": 59,
      "outputs": []
    },
    {
      "cell_type": "code",
      "execution_count": 60,
      "metadata": {
        "id": "4Xz3LDv90JKx"
      },
      "outputs": [],
      "source": [
        "def convert_size(size_bytes):\n",
        "   if size_bytes == 0:\n",
        "       return \"0B\"\n",
        "   size_name = [\"Byte\", \"Kilobyte\", \"Megabyte\", \"Gigabyte\", \"Terabyte\", \"Petabyte\", \"Exabyte\", \n",
        "                \"Zettabyte\", \"Yottabyte\", \"Brontobyte\", \"Geopbyte\"]\n",
        "   size_name = size_name + [f\"1E{3*j} Geopbytes\" for j in range(1, 14)]\n",
        "   i = int(math.floor(math.log(size_bytes, 1000)))\n",
        "   print(i)\n",
        "   p = math.pow(1000, i)\n",
        "   s = round(size_bytes / p, 2)\n",
        "   return \"%s %s\" % (s, size_name[i])\n"
      ]
    },
    {
      "cell_type": "code",
      "execution_count": 61,
      "metadata": {
        "id": "7eWk-OPo0JKy",
        "outputId": "0440e986-8a4c-4045-af97-7f659d14c722",
        "colab": {
          "base_uri": "https://localhost:8080/",
          "height": 54
        }
      },
      "outputs": [
        {
          "output_type": "stream",
          "name": "stdout",
          "text": [
            "23\n"
          ]
        },
        {
          "output_type": "execute_result",
          "data": {
            "text/plain": [
              "'327.15 1E39 Geopbytes'"
            ],
            "application/vnd.google.colaboratory.intrinsic+json": {
              "type": "string"
            }
          },
          "metadata": {},
          "execution_count": 61
        }
      ],
      "source": [
        "import sys\n",
        "memory = math.factorial(52)*52*sys.getsizeof(deck[0])\n",
        "convert_size(memory)"
      ]
    },
    {
      "cell_type": "code",
      "execution_count": 62,
      "metadata": {
        "id": "dt2k7Z500JKz",
        "outputId": "e00cde47-db77-4bf5-ca0e-9e04efef9246",
        "colab": {
          "base_uri": "https://localhost:8080/"
        }
      },
      "outputs": [
        {
          "output_type": "execute_result",
          "data": {
            "text/plain": [
              "1.0978187919463087e+52"
            ]
          },
          "metadata": {},
          "execution_count": 62
        }
      ],
      "source": [
        "# it is estimated that there are 285 exabytes of data in the world 298E9 gigabytes\n",
        "\n",
        "worlds = 327.15E39*10E30/(298E9*1E9)\n",
        "worlds"
      ]
    },
    {
      "cell_type": "code",
      "execution_count": 34,
      "metadata": {
        "id": "h5ILd3k60JK0"
      },
      "outputs": [],
      "source": [
        "def all_permutations(deck):\n",
        "  if len(deck)==1:\n",
        "    yield deck\n",
        "  else:\n",
        "    for i in range(len(deck)):\n",
        "      for p in all_permutations(deck[:i]+deck[i+1:]):\n",
        "        yield [deck[i]]+p\n",
        "    "
      ]
    },
    {
      "cell_type": "code",
      "execution_count": 35,
      "metadata": {
        "id": "MQeE0Mnb0JK1",
        "outputId": "14f6b0ec-4a03-4409-8a77-08cfa3f5808a",
        "colab": {
          "base_uri": "https://localhost:8080/"
        }
      },
      "outputs": [
        {
          "output_type": "execute_result",
          "data": {
            "text/plain": [
              "<generator object all_permutations at 0x7f6e24dfd9d0>"
            ]
          },
          "metadata": {},
          "execution_count": 35
        }
      ],
      "source": [
        "all_ = all_permutations(deck)\n",
        "all_"
      ]
    },
    {
      "cell_type": "code",
      "execution_count": 37,
      "metadata": {
        "id": "DSOCuvg70JK2",
        "outputId": "596c4ad3-d119-43b4-f020-9e89b07b35fb",
        "colab": {
          "base_uri": "https://localhost:8080/"
        }
      },
      "outputs": [
        {
          "output_type": "execute_result",
          "data": {
            "text/plain": [
              "['A♠',\n",
              " '2♠',\n",
              " '3♠',\n",
              " '4♠',\n",
              " '5♠',\n",
              " '6♠',\n",
              " '7♠',\n",
              " '8♠',\n",
              " '9♠',\n",
              " '10♠',\n",
              " 'J♠',\n",
              " 'Q♠',\n",
              " 'K♠',\n",
              " 'A♥',\n",
              " '2♥',\n",
              " '3♥',\n",
              " '4♥',\n",
              " '5♥',\n",
              " '6♥',\n",
              " '7♥',\n",
              " '8♥',\n",
              " '9♥',\n",
              " '10♥',\n",
              " 'J♥',\n",
              " 'Q♥',\n",
              " 'K♥',\n",
              " 'A♣',\n",
              " '2♣',\n",
              " '3♣',\n",
              " '4♣',\n",
              " '5♣',\n",
              " '6♣',\n",
              " '7♣',\n",
              " '8♣',\n",
              " '9♣',\n",
              " '10♣',\n",
              " 'J♣',\n",
              " 'Q♣',\n",
              " 'K♣',\n",
              " 'A♦',\n",
              " '2♦',\n",
              " '3♦',\n",
              " '4♦',\n",
              " '5♦',\n",
              " '6♦',\n",
              " '7♦',\n",
              " '8♦',\n",
              " '9♦',\n",
              " '10♦',\n",
              " 'J♦',\n",
              " 'Q♦',\n",
              " 'K♦']"
            ]
          },
          "metadata": {},
          "execution_count": 37
        }
      ],
      "source": [
        "next(all_)"
      ]
    },
    {
      "cell_type": "code",
      "execution_count": 39,
      "metadata": {
        "id": "jYEbxwEN0JK3",
        "outputId": "2438d46a-38b1-40af-bc8e-ab6e63e75d70",
        "colab": {
          "base_uri": "https://localhost:8080/"
        }
      },
      "outputs": [
        {
          "output_type": "execute_result",
          "data": {
            "text/plain": [
              "['A♠',\n",
              " '2♠',\n",
              " '3♠',\n",
              " '4♠',\n",
              " '5♠',\n",
              " '6♠',\n",
              " '7♠',\n",
              " '8♠',\n",
              " '9♠',\n",
              " '10♠',\n",
              " 'J♠',\n",
              " 'Q♠',\n",
              " 'K♠',\n",
              " 'A♥',\n",
              " '2♥',\n",
              " '3♥',\n",
              " '4♥',\n",
              " '5♥',\n",
              " '6♥',\n",
              " '7♥',\n",
              " '8♥',\n",
              " '9♥',\n",
              " '10♥',\n",
              " 'J♥',\n",
              " 'Q♥',\n",
              " 'K♥',\n",
              " 'A♣',\n",
              " '2♣',\n",
              " '3♣',\n",
              " '4♣',\n",
              " '5♣',\n",
              " '6♣',\n",
              " '7♣',\n",
              " '8♣',\n",
              " '9♣',\n",
              " '10♣',\n",
              " 'J♣',\n",
              " 'Q♣',\n",
              " 'K♣',\n",
              " 'A♦',\n",
              " '2♦',\n",
              " '3♦',\n",
              " '4♦',\n",
              " '5♦',\n",
              " '6♦',\n",
              " '7♦',\n",
              " '8♦',\n",
              " '9♦',\n",
              " '10♦',\n",
              " 'J♦',\n",
              " 'K♦',\n",
              " 'Q♦']"
            ]
          },
          "metadata": {},
          "execution_count": 39
        }
      ],
      "source": [
        "next(all_)"
      ]
    },
    {
      "cell_type": "code",
      "execution_count": 40,
      "metadata": {
        "id": "ZBxteK5t0JK4",
        "outputId": "1d91e0c6-3412-41fc-b2ed-650384d756ec",
        "colab": {
          "base_uri": "https://localhost:8080/"
        }
      },
      "outputs": [
        {
          "output_type": "stream",
          "name": "stdout",
          "text": [
            "['A♠', '2♠', '3♠', '4♠', '5♠', '6♠', '7♠', '8♠', '9♠', '10♠', 'J♠', 'Q♠', 'K♠', 'A♥', '2♥', '3♥', '4♥', '5♥', '6♥', '7♥', '8♥', '9♥', '10♥', 'J♥', 'Q♥', 'K♥', 'A♣', '2♣', '3♣', '4♣', '5♣', '6♣', '7♣', '8♣', '9♣', '10♣', 'J♣', 'Q♣', 'K♣', 'A♦', '2♦', '3♦', '4♦', '5♦', '6♦', '7♦', '8♦', '9♦', '10♦', 'J♦', 'Q♦', 'K♦']\n",
            "['A♠', '2♠', '3♠', '4♠', '5♠', '6♠', '7♠', '8♠', '9♠', '10♠', 'J♠', 'Q♠', 'K♠', 'A♥', '2♥', '3♥', '4♥', '5♥', '6♥', '7♥', '8♥', '9♥', '10♥', 'J♥', 'Q♥', 'K♥', 'A♣', '2♣', '3♣', '4♣', '5♣', '6♣', '7♣', '8♣', '9♣', '10♣', 'J♣', 'Q♣', 'K♣', 'A♦', '2♦', '3♦', '4♦', '5♦', '6♦', '7♦', '8♦', '9♦', '10♦', 'J♦', 'K♦', 'Q♦']\n",
            "['A♠', '2♠', '3♠', '4♠', '5♠', '6♠', '7♠', '8♠', '9♠', '10♠', 'J♠', 'Q♠', 'K♠', 'A♥', '2♥', '3♥', '4♥', '5♥', '6♥', '7♥', '8♥', '9♥', '10♥', 'J♥', 'Q♥', 'K♥', 'A♣', '2♣', '3♣', '4♣', '5♣', '6♣', '7♣', '8♣', '9♣', '10♣', 'J♣', 'Q♣', 'K♣', 'A♦', '2♦', '3♦', '4♦', '5♦', '6♦', '7♦', '8♦', '9♦', '10♦', 'Q♦', 'J♦', 'K♦']\n",
            "['A♠', '2♠', '3♠', '4♠', '5♠', '6♠', '7♠', '8♠', '9♠', '10♠', 'J♠', 'Q♠', 'K♠', 'A♥', '2♥', '3♥', '4♥', '5♥', '6♥', '7♥', '8♥', '9♥', '10♥', 'J♥', 'Q♥', 'K♥', 'A♣', '2♣', '3♣', '4♣', '5♣', '6♣', '7♣', '8♣', '9♣', '10♣', 'J♣', 'Q♣', 'K♣', 'A♦', '2♦', '3♦', '4♦', '5♦', '6♦', '7♦', '8♦', '9♦', '10♦', 'Q♦', 'K♦', 'J♦']\n",
            "['A♠', '2♠', '3♠', '4♠', '5♠', '6♠', '7♠', '8♠', '9♠', '10♠', 'J♠', 'Q♠', 'K♠', 'A♥', '2♥', '3♥', '4♥', '5♥', '6♥', '7♥', '8♥', '9♥', '10♥', 'J♥', 'Q♥', 'K♥', 'A♣', '2♣', '3♣', '4♣', '5♣', '6♣', '7♣', '8♣', '9♣', '10♣', 'J♣', 'Q♣', 'K♣', 'A♦', '2♦', '3♦', '4♦', '5♦', '6♦', '7♦', '8♦', '9♦', '10♦', 'K♦', 'J♦', 'Q♦']\n",
            "['A♠', '2♠', '3♠', '4♠', '5♠', '6♠', '7♠', '8♠', '9♠', '10♠', 'J♠', 'Q♠', 'K♠', 'A♥', '2♥', '3♥', '4♥', '5♥', '6♥', '7♥', '8♥', '9♥', '10♥', 'J♥', 'Q♥', 'K♥', 'A♣', '2♣', '3♣', '4♣', '5♣', '6♣', '7♣', '8♣', '9♣', '10♣', 'J♣', 'Q♣', 'K♣', 'A♦', '2♦', '3♦', '4♦', '5♦', '6♦', '7♦', '8♦', '9♦', '10♦', 'K♦', 'Q♦', 'J♦']\n",
            "['A♠', '2♠', '3♠', '4♠', '5♠', '6♠', '7♠', '8♠', '9♠', '10♠', 'J♠', 'Q♠', 'K♠', 'A♥', '2♥', '3♥', '4♥', '5♥', '6♥', '7♥', '8♥', '9♥', '10♥', 'J♥', 'Q♥', 'K♥', 'A♣', '2♣', '3♣', '4♣', '5♣', '6♣', '7♣', '8♣', '9♣', '10♣', 'J♣', 'Q♣', 'K♣', 'A♦', '2♦', '3♦', '4♦', '5♦', '6♦', '7♦', '8♦', '9♦', 'J♦', '10♦', 'Q♦', 'K♦']\n",
            "['A♠', '2♠', '3♠', '4♠', '5♠', '6♠', '7♠', '8♠', '9♠', '10♠', 'J♠', 'Q♠', 'K♠', 'A♥', '2♥', '3♥', '4♥', '5♥', '6♥', '7♥', '8♥', '9♥', '10♥', 'J♥', 'Q♥', 'K♥', 'A♣', '2♣', '3♣', '4♣', '5♣', '6♣', '7♣', '8♣', '9♣', '10♣', 'J♣', 'Q♣', 'K♣', 'A♦', '2♦', '3♦', '4♦', '5♦', '6♦', '7♦', '8♦', '9♦', 'J♦', '10♦', 'K♦', 'Q♦']\n",
            "['A♠', '2♠', '3♠', '4♠', '5♠', '6♠', '7♠', '8♠', '9♠', '10♠', 'J♠', 'Q♠', 'K♠', 'A♥', '2♥', '3♥', '4♥', '5♥', '6♥', '7♥', '8♥', '9♥', '10♥', 'J♥', 'Q♥', 'K♥', 'A♣', '2♣', '3♣', '4♣', '5♣', '6♣', '7♣', '8♣', '9♣', '10♣', 'J♣', 'Q♣', 'K♣', 'A♦', '2♦', '3♦', '4♦', '5♦', '6♦', '7♦', '8♦', '9♦', 'J♦', 'Q♦', '10♦', 'K♦']\n",
            "['A♠', '2♠', '3♠', '4♠', '5♠', '6♠', '7♠', '8♠', '9♠', '10♠', 'J♠', 'Q♠', 'K♠', 'A♥', '2♥', '3♥', '4♥', '5♥', '6♥', '7♥', '8♥', '9♥', '10♥', 'J♥', 'Q♥', 'K♥', 'A♣', '2♣', '3♣', '4♣', '5♣', '6♣', '7♣', '8♣', '9♣', '10♣', 'J♣', 'Q♣', 'K♣', 'A♦', '2♦', '3♦', '4♦', '5♦', '6♦', '7♦', '8♦', '9♦', 'J♦', 'Q♦', 'K♦', '10♦']\n",
            "['A♠', '2♠', '3♠', '4♠', '5♠', '6♠', '7♠', '8♠', '9♠', '10♠', 'J♠', 'Q♠', 'K♠', 'A♥', '2♥', '3♥', '4♥', '5♥', '6♥', '7♥', '8♥', '9♥', '10♥', 'J♥', 'Q♥', 'K♥', 'A♣', '2♣', '3♣', '4♣', '5♣', '6♣', '7♣', '8♣', '9♣', '10♣', 'J♣', 'Q♣', 'K♣', 'A♦', '2♦', '3♦', '4♦', '5♦', '6♦', '7♦', '8♦', '9♦', 'J♦', 'K♦', '10♦', 'Q♦']\n",
            "['A♠', '2♠', '3♠', '4♠', '5♠', '6♠', '7♠', '8♠', '9♠', '10♠', 'J♠', 'Q♠', 'K♠', 'A♥', '2♥', '3♥', '4♥', '5♥', '6♥', '7♥', '8♥', '9♥', '10♥', 'J♥', 'Q♥', 'K♥', 'A♣', '2♣', '3♣', '4♣', '5♣', '6♣', '7♣', '8♣', '9♣', '10♣', 'J♣', 'Q♣', 'K♣', 'A♦', '2♦', '3♦', '4♦', '5♦', '6♦', '7♦', '8♦', '9♦', 'J♦', 'K♦', 'Q♦', '10♦']\n",
            "['A♠', '2♠', '3♠', '4♠', '5♠', '6♠', '7♠', '8♠', '9♠', '10♠', 'J♠', 'Q♠', 'K♠', 'A♥', '2♥', '3♥', '4♥', '5♥', '6♥', '7♥', '8♥', '9♥', '10♥', 'J♥', 'Q♥', 'K♥', 'A♣', '2♣', '3♣', '4♣', '5♣', '6♣', '7♣', '8♣', '9♣', '10♣', 'J♣', 'Q♣', 'K♣', 'A♦', '2♦', '3♦', '4♦', '5♦', '6♦', '7♦', '8♦', '9♦', 'Q♦', '10♦', 'J♦', 'K♦']\n",
            "['A♠', '2♠', '3♠', '4♠', '5♠', '6♠', '7♠', '8♠', '9♠', '10♠', 'J♠', 'Q♠', 'K♠', 'A♥', '2♥', '3♥', '4♥', '5♥', '6♥', '7♥', '8♥', '9♥', '10♥', 'J♥', 'Q♥', 'K♥', 'A♣', '2♣', '3♣', '4♣', '5♣', '6♣', '7♣', '8♣', '9♣', '10♣', 'J♣', 'Q♣', 'K♣', 'A♦', '2♦', '3♦', '4♦', '5♦', '6♦', '7♦', '8♦', '9♦', 'Q♦', '10♦', 'K♦', 'J♦']\n",
            "['A♠', '2♠', '3♠', '4♠', '5♠', '6♠', '7♠', '8♠', '9♠', '10♠', 'J♠', 'Q♠', 'K♠', 'A♥', '2♥', '3♥', '4♥', '5♥', '6♥', '7♥', '8♥', '9♥', '10♥', 'J♥', 'Q♥', 'K♥', 'A♣', '2♣', '3♣', '4♣', '5♣', '6♣', '7♣', '8♣', '9♣', '10♣', 'J♣', 'Q♣', 'K♣', 'A♦', '2♦', '3♦', '4♦', '5♦', '6♦', '7♦', '8♦', '9♦', 'Q♦', 'J♦', '10♦', 'K♦']\n",
            "['A♠', '2♠', '3♠', '4♠', '5♠', '6♠', '7♠', '8♠', '9♠', '10♠', 'J♠', 'Q♠', 'K♠', 'A♥', '2♥', '3♥', '4♥', '5♥', '6♥', '7♥', '8♥', '9♥', '10♥', 'J♥', 'Q♥', 'K♥', 'A♣', '2♣', '3♣', '4♣', '5♣', '6♣', '7♣', '8♣', '9♣', '10♣', 'J♣', 'Q♣', 'K♣', 'A♦', '2♦', '3♦', '4♦', '5♦', '6♦', '7♦', '8♦', '9♦', 'Q♦', 'J♦', 'K♦', '10♦']\n",
            "['A♠', '2♠', '3♠', '4♠', '5♠', '6♠', '7♠', '8♠', '9♠', '10♠', 'J♠', 'Q♠', 'K♠', 'A♥', '2♥', '3♥', '4♥', '5♥', '6♥', '7♥', '8♥', '9♥', '10♥', 'J♥', 'Q♥', 'K♥', 'A♣', '2♣', '3♣', '4♣', '5♣', '6♣', '7♣', '8♣', '9♣', '10♣', 'J♣', 'Q♣', 'K♣', 'A♦', '2♦', '3♦', '4♦', '5♦', '6♦', '7♦', '8♦', '9♦', 'Q♦', 'K♦', '10♦', 'J♦']\n",
            "['A♠', '2♠', '3♠', '4♠', '5♠', '6♠', '7♠', '8♠', '9♠', '10♠', 'J♠', 'Q♠', 'K♠', 'A♥', '2♥', '3♥', '4♥', '5♥', '6♥', '7♥', '8♥', '9♥', '10♥', 'J♥', 'Q♥', 'K♥', 'A♣', '2♣', '3♣', '4♣', '5♣', '6♣', '7♣', '8♣', '9♣', '10♣', 'J♣', 'Q♣', 'K♣', 'A♦', '2♦', '3♦', '4♦', '5♦', '6♦', '7♦', '8♦', '9♦', 'Q♦', 'K♦', 'J♦', '10♦']\n",
            "['A♠', '2♠', '3♠', '4♠', '5♠', '6♠', '7♠', '8♠', '9♠', '10♠', 'J♠', 'Q♠', 'K♠', 'A♥', '2♥', '3♥', '4♥', '5♥', '6♥', '7♥', '8♥', '9♥', '10♥', 'J♥', 'Q♥', 'K♥', 'A♣', '2♣', '3♣', '4♣', '5♣', '6♣', '7♣', '8♣', '9♣', '10♣', 'J♣', 'Q♣', 'K♣', 'A♦', '2♦', '3♦', '4♦', '5♦', '6♦', '7♦', '8♦', '9♦', 'K♦', '10♦', 'J♦', 'Q♦']\n",
            "['A♠', '2♠', '3♠', '4♠', '5♠', '6♠', '7♠', '8♠', '9♠', '10♠', 'J♠', 'Q♠', 'K♠', 'A♥', '2♥', '3♥', '4♥', '5♥', '6♥', '7♥', '8♥', '9♥', '10♥', 'J♥', 'Q♥', 'K♥', 'A♣', '2♣', '3♣', '4♣', '5♣', '6♣', '7♣', '8♣', '9♣', '10♣', 'J♣', 'Q♣', 'K♣', 'A♦', '2♦', '3♦', '4♦', '5♦', '6♦', '7♦', '8♦', '9♦', 'K♦', '10♦', 'Q♦', 'J♦']\n",
            "['A♠', '2♠', '3♠', '4♠', '5♠', '6♠', '7♠', '8♠', '9♠', '10♠', 'J♠', 'Q♠', 'K♠', 'A♥', '2♥', '3♥', '4♥', '5♥', '6♥', '7♥', '8♥', '9♥', '10♥', 'J♥', 'Q♥', 'K♥', 'A♣', '2♣', '3♣', '4♣', '5♣', '6♣', '7♣', '8♣', '9♣', '10♣', 'J♣', 'Q♣', 'K♣', 'A♦', '2♦', '3♦', '4♦', '5♦', '6♦', '7♦', '8♦', '9♦', 'K♦', 'J♦', '10♦', 'Q♦']\n"
          ]
        }
      ],
      "source": [
        "all_ = all_permutations(deck)\n",
        "i = 0\n",
        "K = 20\n",
        "\n",
        "while i <=K:\n",
        "    d = next(all_)\n",
        "    print(d)\n",
        "    i = i+1"
      ]
    },
    {
      "cell_type": "markdown",
      "metadata": {
        "id": "DWxsGfve0JK4"
      },
      "source": [
        "# Type Hinting\n",
        "\n",
        "## Python is dynamically typed, which means that until runtime Python has to infer the type of objects"
      ]
    },
    {
      "cell_type": "code",
      "execution_count": null,
      "metadata": {
        "id": "NZF71HbJ0JK5"
      },
      "outputs": [],
      "source": [
        "def my_function(x):\n",
        "    pass"
      ]
    },
    {
      "cell_type": "markdown",
      "metadata": {
        "id": "lqyxMyc80JK5"
      },
      "source": [
        "## One solution, check type at run time"
      ]
    },
    {
      "cell_type": "code",
      "execution_count": null,
      "metadata": {
        "id": "c9nBplZv0JK5"
      },
      "outputs": [],
      "source": [
        "def my_function(x):\n",
        "    if type(x)==int:\n",
        "        pass\n",
        "    elif type(x)==float:\n",
        "        pass\n",
        "    else:\n",
        "        raise Exception(\"Type not accepted\")"
      ]
    },
    {
      "cell_type": "code",
      "execution_count": null,
      "metadata": {
        "id": "19T2KYA80JK7"
      },
      "outputs": [],
      "source": [
        "my_function(1)"
      ]
    },
    {
      "cell_type": "markdown",
      "metadata": {
        "id": "tEKgWbsK0JK7"
      },
      "source": [
        "## Hint types"
      ]
    },
    {
      "cell_type": "code",
      "execution_count": null,
      "metadata": {
        "id": "jl9VFktu0JK7"
      },
      "outputs": [],
      "source": [
        "def square_root(x: float):\n",
        "    pass"
      ]
    },
    {
      "cell_type": "code",
      "execution_count": null,
      "metadata": {
        "id": "0Pxu63Yo0JK7"
      },
      "outputs": [],
      "source": [
        "square_root(1) # For python int <: float"
      ]
    },
    {
      "cell_type": "code",
      "execution_count": null,
      "metadata": {
        "id": "1qz0rv5z0JK8"
      },
      "outputs": [],
      "source": [
        "square_root(True) # Is a hint not a requirement"
      ]
    },
    {
      "cell_type": "code",
      "execution_count": null,
      "metadata": {
        "id": "vWfDksPq0JK8",
        "outputId": "523d9be3-4640-418f-e68d-f1517650f1bd",
        "colab": {
          "base_uri": "https://localhost:8080/",
          "height": 35
        }
      },
      "outputs": [
        {
          "output_type": "execute_result",
          "data": {
            "text/plain": [
              "'10'"
            ],
            "application/vnd.google.colaboratory.intrinsic+json": {
              "type": "string"
            }
          },
          "metadata": {},
          "execution_count": 44
        }
      ],
      "source": [
        "# Hint on the output\n",
        "def my_function(x: float) -> str:\n",
        "    return f\"{x}\"\n",
        "\n",
        "my_function(10)"
      ]
    },
    {
      "cell_type": "markdown",
      "source": [
        "# Tic Tac Toe Game"
      ],
      "metadata": {
        "id": "GPp5HQdaftPL"
      }
    },
    {
      "cell_type": "code",
      "source": [
        "#%%\n",
        "import numpy as np\n",
        "from dataclasses import dataclass\n",
        "import time\n",
        "import sys\n",
        "# create a data class for the Board with the decorator\n",
        "@dataclass\n",
        "class Board:\n",
        "    \n",
        "    # it is called right after initialization\n",
        "    def __init__(self):\n",
        "        self.board = np.array([[' ', ' ', ' '], [' ', ' ', ' '], [' ', ' ', ' ']])\n",
        "        # initial mark of tic tac toe \n",
        "        self.mark = 'X'\n",
        "        \n",
        "    # print the board\n",
        "    def __str__(self):\n",
        "        return f\"{self.board}\"\n",
        "    \n",
        "    # check if X won, O won, or if it is a tie\n",
        "    def check_win(self):\n",
        "        # check if X won\n",
        "        if np.any(np.all(self.board == 'X', axis=1)) or np.any(np.all(self.board == 'X', axis=0)) or np.all(np.diag(self.board) == 'X') or np.all(np.diag(np.fliplr(self.board)) == 'X'):\n",
        "            return 'X'\n",
        "        # check if O won\n",
        "        elif np.any(np.all(self.board == 'O', axis=1)) or np.any(np.all(self.board == 'O', axis=0)) or np.all(np.diag(self.board) == 'O') or np.all(np.diag(np.fliplr(self.board)) == 'O'):\n",
        "            return 'O'\n",
        "        # check if it is a tie\n",
        "        elif ' ' not in self.board:\n",
        "            return 'Tie'\n",
        "        # if none of the above, return None\n",
        "        else:\n",
        "            return None\n",
        "        \n",
        "    # make a move\n",
        "    def make_move(self, row, col):\n",
        "        # check if the move is valid\n",
        "        if self.board[row, col] == ' ':\n",
        "            # make the move\n",
        "            self.board[row, col] = self.mark\n",
        "            # switch the mark\n",
        "            if self.mark == 'X':\n",
        "                self.mark = 'O'\n",
        "            else:\n",
        "                self.mark = 'X'\n",
        "        else:\n",
        "            raise ValueError('Invalid move')\n",
        "            \n",
        "            \n",
        "    # reset the board\n",
        "    def reset(self):\n",
        "        self.board = np.array([[' ', ' ', ' '], [' ', ' ', ' '], [' ', ' ', ' ']])\n",
        "        self.mark = 'X'\n",
        "        \n",
        "# create a data class for the Player with the decorator\n",
        "@dataclass\n",
        "class Player:\n",
        "        \n",
        "        # it is called right after initialization\n",
        "        def __init__(self, name):\n",
        "            self.name = name\n",
        "            \n",
        "        # print the name \n",
        "        def __str__(self):\n",
        "            return f\"{self.name}\"\n",
        "        \n",
        "        # make a move\n",
        "        def make_move(self, board):\n",
        "            # get the row and column\n",
        "            row = int(input('Enter the row: '))\n",
        "            col = int(input('Enter the column: '))\n",
        "            # make the move\n",
        "            board.make_move(row, col)\n",
        "            \n",
        "# create a data class for the Computer with the decorator\n",
        "@dataclass\n",
        "class Computer:\n",
        "            \n",
        "            # it is called right after initialization\n",
        "            def __init__(self, name):\n",
        "                self.name = name\n",
        "                \n",
        "            # print the name \n",
        "            def __str__(self):\n",
        "                return f\"{self.name}\"\n",
        "            \n",
        "            # make a move\n",
        "            def make_move(self, board):\n",
        "                # available moves\n",
        "                available_moves = np.argwhere(board.board == ' ')\n",
        "                # choose a random move\n",
        "                move = available_moves[np.random.choice(len(available_moves))]\n",
        "                row = move[0]\n",
        "                col = move[1]\n",
        "                \n",
        "                # make the move\n",
        "                board.make_move(row, col)\n",
        "\n",
        "# create a data class for the Game with the decorator\n",
        "@dataclass\n",
        "class Game:\n",
        "        \n",
        "        # it is called right after initialization\n",
        "        def __init__(self):\n",
        "            # create the board\n",
        "            self.board = Board()\n",
        "            # create the players\n",
        "            self.player1 = Player('Player 1')\n",
        "            self.player2 = Player('Player 2')\n",
        "            # create the computer\n",
        "            self.computer = Computer('Computer')\n",
        "            # create the players\n",
        "            self.players = [self.player1, self.computer]\n",
        "            # create the current player\n",
        "            self.current_player = self.players[0]\n",
        "            \n",
        "        # print the board\n",
        "        def __str__(self):\n",
        "            return f\"{self.board}\"\n",
        "        \n",
        "        # play the game\n",
        "        def play(self):\n",
        "            # print the board\n",
        "            print(str(self), end = '\\n')\n",
        "            # loop until the game is over\n",
        "            while True:\n",
        "                time.sleep(1)\n",
        "                # print the current player\n",
        "                print(f\"It is {self.current_player}'s turn.\", end = '\\n')\n",
        "                # make a move\n",
        "                # if the current player is the human player, try until a valid move is made\n",
        "                if self.current_player == self.player1:\n",
        "                    while True:\n",
        "                        try:\n",
        "                            self.current_player.make_move(self.board)\n",
        "                            break\n",
        "                        except ValueError as ve:\n",
        "                            print(ve)\n",
        "                            \n",
        "                else:\n",
        "                    self.current_player.make_move(self.board)\n",
        "                # print the board\n",
        "                print(str(self), end = '\\n')\n",
        "                # check if someone won\n",
        "                if self.board.check_win() == 'X':\n",
        "                    print('X won!', end = '\\n')\n",
        "                    break\n",
        "                elif self.board.check_win() == 'O':\n",
        "                    print('O won!', end = '\\n')\n",
        "                    break\n",
        "                elif self.board.check_win() == 'Tie':\n",
        "                    print('Tie!', end = '\\n')\n",
        "                    break\n",
        "                # switch the current player\n",
        "                self.current_player = self.players[1 - self.players.index(self.current_player)]\n",
        "            # reset the board\n",
        "            self.board.reset()\n",
        "            \n",
        "\n",
        "\n",
        "    \n",
        "    \n",
        "    "
      ],
      "metadata": {
        "id": "wEKHMuRO7jcE"
      },
      "execution_count": null,
      "outputs": []
    },
    {
      "cell_type": "code",
      "source": [
        "# create the game\n",
        "game = Game()\n",
        "# play the game\n",
        "game.play()"
      ],
      "metadata": {
        "id": "N-AGi-kxf0dr",
        "outputId": "514053c6-8063-42df-8823-fc57975da7e2",
        "colab": {
          "base_uri": "https://localhost:8080/"
        }
      },
      "execution_count": null,
      "outputs": [
        {
          "output_type": "stream",
          "name": "stdout",
          "text": [
            "[[' ' ' ' ' ']\n",
            " [' ' ' ' ' ']\n",
            " [' ' ' ' ' ']]\n",
            "It is Player 1's turn.\n",
            "Enter the row: 0\n",
            "Enter the column: 0\n",
            "[['X' ' ' ' ']\n",
            " [' ' ' ' ' ']\n",
            " [' ' ' ' ' ']]\n",
            "It is Computer's turn.\n",
            "[['X' ' ' ' ']\n",
            " [' ' 'O' ' ']\n",
            " [' ' ' ' ' ']]\n",
            "It is Player 1's turn.\n",
            "Enter the row: 0\n",
            "Enter the column: 1\n",
            "[['X' 'X' ' ']\n",
            " [' ' 'O' ' ']\n",
            " [' ' ' ' ' ']]\n",
            "It is Computer's turn.\n",
            "[['X' 'X' ' ']\n",
            " [' ' 'O' ' ']\n",
            " ['O' ' ' ' ']]\n",
            "It is Player 1's turn.\n",
            "Enter the row: 1\n",
            "Enter the column: 0\n",
            "[['X' 'X' ' ']\n",
            " ['X' 'O' ' ']\n",
            " ['O' ' ' ' ']]\n",
            "It is Computer's turn.\n",
            "[['X' 'X' ' ']\n",
            " ['X' 'O' ' ']\n",
            " ['O' 'O' ' ']]\n",
            "It is Player 1's turn.\n",
            "Enter the row: 1\n",
            "Enter the column: 2\n",
            "[['X' 'X' ' ']\n",
            " ['X' 'O' 'X']\n",
            " ['O' 'O' ' ']]\n",
            "It is Computer's turn.\n",
            "[['X' 'X' ' ']\n",
            " ['X' 'O' 'X']\n",
            " ['O' 'O' 'O']]\n",
            "O won!\n"
          ]
        }
      ]
    },
    {
      "cell_type": "code",
      "source": [
        "# Accelerate Code \n",
        "!pip install numba"
      ],
      "metadata": {
        "id": "6qlVwPmHf6CI",
        "outputId": "9de85301-516f-4fab-ee38-47a918ca1a4d",
        "colab": {
          "base_uri": "https://localhost:8080/"
        }
      },
      "execution_count": 63,
      "outputs": [
        {
          "output_type": "stream",
          "name": "stdout",
          "text": [
            "Looking in indexes: https://pypi.org/simple, https://us-python.pkg.dev/colab-wheels/public/simple/\n",
            "Requirement already satisfied: numba in /usr/local/lib/python3.7/dist-packages (0.56.4)\n",
            "Requirement already satisfied: setuptools in /usr/local/lib/python3.7/dist-packages (from numba) (57.4.0)\n",
            "Requirement already satisfied: numpy<1.24,>=1.18 in /usr/local/lib/python3.7/dist-packages (from numba) (1.21.6)\n",
            "Requirement already satisfied: importlib-metadata in /usr/local/lib/python3.7/dist-packages (from numba) (4.13.0)\n",
            "Requirement already satisfied: llvmlite<0.40,>=0.39.0dev0 in /usr/local/lib/python3.7/dist-packages (from numba) (0.39.1)\n",
            "Requirement already satisfied: zipp>=0.5 in /usr/local/lib/python3.7/dist-packages (from importlib-metadata->numba) (3.10.0)\n",
            "Requirement already satisfied: typing-extensions>=3.6.4 in /usr/local/lib/python3.7/dist-packages (from importlib-metadata->numba) (4.1.1)\n"
          ]
        }
      ]
    },
    {
      "cell_type": "code",
      "source": [
        "# example, take an array and sort it monotonically\n",
        "@timing\n",
        "def monotonically_increasing(a):\n",
        "    max_value = 0\n",
        "    for i in range(len(a)):\n",
        "        if a[i] > max_value:\n",
        "            max_value = a[i]\n",
        "        a[i] = max_value\n",
        "\n",
        "a = [1, 2, 1, 3, 3, 5, 4, 6]\n",
        "monotonically_increasing(a)\n",
        "print(a)"
      ],
      "metadata": {
        "id": "yLXWLYqTdWeR",
        "outputId": "bb5bf22a-6a1b-4ec3-e70d-a8300d27b69b",
        "colab": {
          "base_uri": "https://localhost:8080/"
        }
      },
      "execution_count": 69,
      "outputs": [
        {
          "output_type": "stream",
          "name": "stdout",
          "text": [
            "Your function took 0.0 seconds\n",
            "[1, 2, 2, 3, 3, 5, 5, 6]\n"
          ]
        }
      ]
    },
    {
      "cell_type": "code",
      "source": [
        "# how much for a For a 10,000,000-entry NumPy array? \n",
        "import numpy as np\n",
        "a = np.random.randint(100, size=10000000)\n",
        "monotonically_increasing(a)\n",
        "print(a[:20])"
      ],
      "metadata": {
        "id": "iANw599SeAPg",
        "outputId": "2d76639c-d672-4303-918b-4f8eb0b04913",
        "colab": {
          "base_uri": "https://localhost:8080/"
        }
      },
      "execution_count": 75,
      "outputs": [
        {
          "output_type": "stream",
          "name": "stdout",
          "text": [
            "Your function took 2.4139 seconds\n",
            "[67 76 77 83 91 91 91 91 91 91 91 91 93 93 93 93 96 96 96 96]\n"
          ]
        }
      ]
    },
    {
      "cell_type": "code",
      "source": [
        "# can we do better?\n",
        "\n",
        "from numba import njit\n",
        "\n",
        "@timing\n",
        "@njit\n",
        "def monotonically_increasing_numba(a):\n",
        "    max_value = 0\n",
        "    for i in range(len(a)):\n",
        "        if a[i] > max_value:\n",
        "            max_value = a[i]\n",
        "        a[i] = max_value\n",
        "\n",
        "a = np.random.randint(100, size=10000000)\n",
        "monotonically_increasing_numba(a)\n",
        "print(a[:20])"
      ],
      "metadata": {
        "id": "PdF1hCYCebvl",
        "outputId": "65ac7298-15e5-4523-9662-ab98e1a00983",
        "colab": {
          "base_uri": "https://localhost:8080/"
        }
      },
      "execution_count": 76,
      "outputs": [
        {
          "output_type": "stream",
          "name": "stdout",
          "text": [
            "Your function took 0.1097 seconds\n",
            "[ 8 55 55 55 55 86 86 86 86 86 86 86 98 98 98 98 98 98 98 98]\n"
          ]
        }
      ]
    },
    {
      "cell_type": "code",
      "source": [],
      "metadata": {
        "id": "LKHHZ_msfmOg"
      },
      "execution_count": null,
      "outputs": []
    }
  ],
  "metadata": {
    "interpreter": {
      "hash": "3bce3b5366bc5d3beb18138a90777eb607bfd7bcdc5b1b5786ac51c214c88ff2"
    },
    "kernelspec": {
      "display_name": "Python 3.8.11 64-bit ('base': conda)",
      "name": "python3"
    },
    "language_info": {
      "codemirror_mode": {
        "name": "ipython",
        "version": 3
      },
      "file_extension": ".py",
      "mimetype": "text/x-python",
      "name": "python",
      "nbconvert_exporter": "python",
      "pygments_lexer": "ipython3",
      "version": "3.8.11"
    },
    "orig_nbformat": 4,
    "colab": {
      "provenance": []
    }
  },
  "nbformat": 4,
  "nbformat_minor": 0
}