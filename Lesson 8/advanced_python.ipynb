{
  "cells": [
    {
      "cell_type": "markdown",
      "metadata": {
        "id": "vkTbo-650JKR"
      },
      "source": [
        "# Magic Methods - Dunders\n",
        "\n",
        "## Dunders __ (double underscore) are used for special methods that Python reserves for classes"
      ]
    },
    {
      "cell_type": "code",
      "execution_count": null,
      "metadata": {
        "id": "VIxqGqb00JKU"
      },
      "outputs": [],
      "source": [
        "class Person:\n",
        "    \n",
        "    def __init__(self, name, age):\n",
        "        self.name = name\n",
        "        self.age  = age"
      ]
    },
    {
      "cell_type": "code",
      "execution_count": null,
      "metadata": {
        "id": "rblApP6q0JKV",
        "outputId": "b2e4f0a8-9fc5-4157-d6d1-15e96de53795",
        "colab": {
          "base_uri": "https://localhost:8080/"
        }
      },
      "outputs": [
        {
          "output_type": "execute_result",
          "data": {
            "text/plain": [
              "<__main__.Person at 0x7fef18039750>"
            ]
          },
          "metadata": {},
          "execution_count": 2
        }
      ],
      "source": [
        "person = Person(\"Ana\", 25) # You dont call the __init__ method directly\n",
        "person"
      ]
    },
    {
      "cell_type": "code",
      "execution_count": null,
      "metadata": {
        "id": "L5WLAWlv0JKW",
        "outputId": "465b4864-0c9b-4abb-bd23-1ccd3cf29a66",
        "colab": {
          "base_uri": "https://localhost:8080/"
        }
      },
      "outputs": [
        {
          "output_type": "stream",
          "name": "stdout",
          "text": [
            "Ana is 25 years old\n"
          ]
        }
      ],
      "source": [
        "print(f\"{person.name} is {person.age} years old\")"
      ]
    },
    {
      "cell_type": "code",
      "execution_count": null,
      "metadata": {
        "id": "0f64qFMX0JKW"
      },
      "outputs": [],
      "source": [
        "class Person:\n",
        "    \n",
        "    def __init__(self, name, age):\n",
        "        self.name = name\n",
        "        self.age  = age\n",
        "\n",
        "    def __del__(self):\n",
        "        print(f\"{self.name} has been deleted\")"
      ]
    },
    {
      "cell_type": "code",
      "execution_count": null,
      "metadata": {
        "id": "Ye7Zu44u0JKX"
      },
      "outputs": [],
      "source": [
        "person = Person(\"Mike\", 30)"
      ]
    },
    {
      "cell_type": "code",
      "execution_count": null,
      "metadata": {
        "id": "ePHBH53N0JKX"
      },
      "outputs": [],
      "source": [
        "del person"
      ]
    },
    {
      "cell_type": "code",
      "execution_count": null,
      "metadata": {
        "id": "LQ8RccM70JKY"
      },
      "outputs": [],
      "source": [
        "class Vector:\n",
        "    \n",
        "    def __init__(self, x, y):\n",
        "        self.x = x\n",
        "        self.y  = y\n",
        "\n",
        "v1 = Vector(10, 20)\n",
        "v2 = Vector(50, 60)\n",
        "\n",
        "#v3 = v1 + v2\n",
        "\n",
        "    "
      ]
    },
    {
      "cell_type": "code",
      "execution_count": null,
      "metadata": {
        "id": "g7r2wJ2C0JKZ",
        "outputId": "35ac352a-4a57-4d8b-cfe4-349d457db9e1",
        "colab": {
          "base_uri": "https://localhost:8080/"
        }
      },
      "outputs": [
        {
          "output_type": "stream",
          "name": "stdout",
          "text": [
            "60 80\n"
          ]
        }
      ],
      "source": [
        "class Vector:\n",
        "    \n",
        "    def __init__(self, x, y):\n",
        "        self.x = x\n",
        "        self.y  = y\n",
        "\n",
        "    def __add__(self, other):\n",
        "        return Vector(self.x+other.x, self.y + other.y)\n",
        "\n",
        "v1 = Vector(10, 20)\n",
        "v2 = Vector(50, 60)\n",
        "\n",
        "v3 = v1 + v2\n",
        "print(f\"{v3.x} {v3.y}\")"
      ]
    },
    {
      "cell_type": "code",
      "execution_count": null,
      "metadata": {
        "id": "SZYO6kbo0JKa",
        "outputId": "c2261cba-74dc-4505-a78d-c37984a88801",
        "colab": {
          "base_uri": "https://localhost:8080/"
        }
      },
      "outputs": [
        {
          "output_type": "execute_result",
          "data": {
            "text/plain": [
              "-1+12i"
            ]
          },
          "metadata": {},
          "execution_count": 10
        }
      ],
      "source": [
        "import math \n",
        "\n",
        "class ComplexNumber:\n",
        "    \n",
        "    def __init__(self, a, b):\n",
        "        self.a  = a\n",
        "        self.b  = b\n",
        "\n",
        "    def __repr__(self):\n",
        "        s = f\"{self.a}+{self.b}i\" if self.b >=0 else f\"{self.a}-{self.b}i\"\n",
        "        return s\n",
        "    \n",
        "    def __add__(self, other):\n",
        "        return ComplexNumber(self.a+other.a, self.b + other.b)\n",
        "\n",
        "    def __sub__(self, other):\n",
        "        return ComplexNumber(self.a-other.a, self.b - other.b)\n",
        "\n",
        "    def __neg__(self):\n",
        "         return ComplexNumber(- self.a, - self.b)\n",
        "\n",
        "    def __mul__(self, other):\n",
        "        return ComplexNumber(self.a*other.a-self.b*other.b, self.a*other.b+self.b*other.a)\n",
        "\n",
        "    def __truediv__(self, other):\n",
        "        if other.a==0 and other.b==0:\n",
        "            raise ZeroDivisionError\n",
        "        else:\n",
        "            # Finds the conjugate of the denominator\n",
        "            conjugate = ComplexNumber(other.a, - other.b)\n",
        "            numerator   = self*conjugate\n",
        "            denominator = other*conjugate\n",
        "            return ComplexNumber(numerator.a/denominator.a, numerator.b/denominator.a)\n",
        "\n",
        "    def __len__(self):\n",
        "        return 2\n",
        "\n",
        "\n",
        "\n",
        "v1 = ComplexNumber(1, 5)\n",
        "v2 = ComplexNumber(2, -7)\n",
        "\n",
        "v3 = v1-v2\n",
        "v3\n",
        "\n",
        "\n"
      ]
    },
    {
      "cell_type": "markdown",
      "metadata": {
        "id": "pyI61uf50JKc"
      },
      "source": [
        "# Decorators"
      ]
    },
    {
      "cell_type": "markdown",
      "metadata": {
        "id": "MPQyNWCA0JKc"
      },
      "source": [
        "## Wraps a function with extra functionality"
      ]
    },
    {
      "cell_type": "code",
      "execution_count": null,
      "metadata": {
        "id": "Wo7UQFI_0JKc"
      },
      "outputs": [],
      "source": [
        "import time\n",
        "def timing(function):\n",
        "\n",
        "    def wrapper(*args, **kwargs):\n",
        "        now = time.time()\n",
        "        result = function(*args, **kwargs)\n",
        "        end = time.time()\n",
        "        print(f\"Your function took {round(end-now,4)} seconds\")\n",
        "        return result\n",
        "\n",
        "    return wrapper\n"
      ]
    },
    {
      "cell_type": "code",
      "execution_count": null,
      "metadata": {
        "id": "jNKNWD950JKc",
        "outputId": "acb2e481-2685-4ca1-e8b0-cf9dde5417a0",
        "colab": {
          "base_uri": "https://localhost:8080/"
        }
      },
      "outputs": [
        {
          "output_type": "stream",
          "name": "stdout",
          "text": [
            "Your function took 0.0 seconds\n"
          ]
        },
        {
          "output_type": "execute_result",
          "data": {
            "text/plain": [
              "45"
            ]
          },
          "metadata": {},
          "execution_count": 12
        }
      ],
      "source": [
        "@timing\n",
        "def sum_to(n):\n",
        "    return int(n*(n-1)/2)\n",
        "\n",
        "sum_to(10)"
      ]
    },
    {
      "cell_type": "code",
      "execution_count": null,
      "metadata": {
        "id": "7wEC-qym0JKd"
      },
      "outputs": [],
      "source": [
        "@timing \n",
        "def is_prime(n: int) -> bool:\n",
        "    \"\"\"Primality test using 6k+-1 optimization.\"\"\"\n",
        "    if n <= 3:\n",
        "        return n > 1\n",
        "    if n % 2 == 0 or n % 3 == 0:\n",
        "        return False\n",
        "    i = 5\n",
        "    while i ** 2 <= n:\n",
        "        if n % i == 0 or n % (i + 2) == 0:\n",
        "            return False\n",
        "        i += 6\n",
        "    return True"
      ]
    },
    {
      "cell_type": "code",
      "execution_count": null,
      "metadata": {
        "id": "IIeDYsrm0JKl",
        "outputId": "ec35793f-2642-4555-ff94-a72148ebe427",
        "colab": {
          "base_uri": "https://localhost:8080/"
        }
      },
      "outputs": [
        {
          "output_type": "stream",
          "name": "stdout",
          "text": [
            "Your function took 0.0 seconds\n"
          ]
        },
        {
          "output_type": "execute_result",
          "data": {
            "text/plain": [
              "False"
            ]
          },
          "metadata": {},
          "execution_count": 14
        }
      ],
      "source": [
        "is_prime(500)"
      ]
    },
    {
      "cell_type": "code",
      "execution_count": null,
      "metadata": {
        "id": "yUMY70g-0JKn"
      },
      "outputs": [],
      "source": [
        "fact = lambda n : 1 if n==0 else n*fact(n-1) "
      ]
    },
    {
      "cell_type": "code",
      "execution_count": null,
      "metadata": {
        "id": "vwTSA_Eg0JKo",
        "outputId": "f29bcd81-cc98-472c-9581-0839cdcdef1c",
        "colab": {
          "base_uri": "https://localhost:8080/"
        }
      },
      "outputs": [
        {
          "output_type": "stream",
          "name": "stdout",
          "text": [
            "Your function took 0.0 seconds\n"
          ]
        },
        {
          "output_type": "execute_result",
          "data": {
            "text/plain": [
              "False"
            ]
          },
          "metadata": {},
          "execution_count": 17
        }
      ],
      "source": [
        "is_prime(fact(100))"
      ]
    },
    {
      "cell_type": "code",
      "execution_count": null,
      "metadata": {
        "id": "N8oD9ZBH0JKo",
        "outputId": "148cbb7d-3e04-4622-ac03-7ebf468daed4",
        "colab": {
          "base_uri": "https://localhost:8080/"
        }
      },
      "outputs": [
        {
          "output_type": "stream",
          "name": "stdout",
          "text": [
            "Your function took 0.0 seconds\n"
          ]
        },
        {
          "output_type": "execute_result",
          "data": {
            "text/plain": [
              "True"
            ]
          },
          "metadata": {},
          "execution_count": 18
        }
      ],
      "source": [
        "is_prime(101)"
      ]
    },
    {
      "cell_type": "markdown",
      "metadata": {
        "id": "0BZmoX_X0JKp"
      },
      "source": [
        "# Generators"
      ]
    },
    {
      "cell_type": "markdown",
      "metadata": {
        "id": "Isl40rDd0JKq"
      },
      "source": [
        "## Generators allow you to enumerate long sequences in a memory efficient manner"
      ]
    },
    {
      "cell_type": "code",
      "execution_count": null,
      "metadata": {
        "id": "SkiM-OmY0JKr"
      },
      "outputs": [],
      "source": [
        "def numbers_to_n(n):\n",
        "    for i in range(n):\n",
        "        yield i+1"
      ]
    },
    {
      "cell_type": "code",
      "execution_count": null,
      "metadata": {
        "id": "ECJ4t1mr0JKs",
        "outputId": "b9fea018-e2d7-4b09-923c-cb7857e4d328",
        "colab": {
          "base_uri": "https://localhost:8080/"
        }
      },
      "outputs": [
        {
          "output_type": "execute_result",
          "data": {
            "text/plain": [
              "<generator object numbers_to_n at 0x7fef17f43c50>"
            ]
          },
          "metadata": {},
          "execution_count": 24
        }
      ],
      "source": [
        "numbers = numbers_to_n(100)\n",
        "numbers"
      ]
    },
    {
      "cell_type": "code",
      "execution_count": null,
      "metadata": {
        "id": "2Abi0Snv0JKt",
        "outputId": "46e82727-d443-44d9-bd32-46e2ae7b0b96",
        "colab": {
          "base_uri": "https://localhost:8080/"
        }
      },
      "outputs": [
        {
          "output_type": "execute_result",
          "data": {
            "text/plain": [
              "1"
            ]
          },
          "metadata": {},
          "execution_count": 25
        }
      ],
      "source": [
        "next(numbers)"
      ]
    },
    {
      "cell_type": "code",
      "execution_count": null,
      "metadata": {
        "id": "GU74cAem0JKu",
        "outputId": "2e0fc908-e620-4515-f341-6e1e16e027b2",
        "colab": {
          "base_uri": "https://localhost:8080/"
        }
      },
      "outputs": [
        {
          "output_type": "execute_result",
          "data": {
            "text/plain": [
              "2"
            ]
          },
          "metadata": {},
          "execution_count": 26
        }
      ],
      "source": [
        "next(numbers)"
      ]
    },
    {
      "cell_type": "markdown",
      "metadata": {
        "id": "sm00nIEf0JKv"
      },
      "source": [
        "## Example, return all possible card deck combinations in a deck of 52 "
      ]
    },
    {
      "cell_type": "markdown",
      "metadata": {
        "id": "e_pySvAo0JKw"
      },
      "source": [
        "## How much memory would it take to enumerate them all?\n",
        "\n",
        "Permutations * length of permutation * memory of each element"
      ]
    },
    {
      "cell_type": "code",
      "execution_count": null,
      "metadata": {
        "id": "Trdn6nEO0JKw",
        "outputId": "a5546075-815c-4559-cfad-d596d93c1b6b",
        "colab": {
          "base_uri": "https://localhost:8080/"
        }
      },
      "outputs": [
        {
          "output_type": "execute_result",
          "data": {
            "text/plain": [
              "['A♠',\n",
              " '2♠',\n",
              " '3♠',\n",
              " '4♠',\n",
              " '5♠',\n",
              " '6♠',\n",
              " '7♠',\n",
              " '8♠',\n",
              " '9♠',\n",
              " '10♠',\n",
              " 'J♠',\n",
              " 'Q♠',\n",
              " 'K♠',\n",
              " 'A♥',\n",
              " '2♥',\n",
              " '3♥',\n",
              " '4♥',\n",
              " '5♥',\n",
              " '6♥',\n",
              " '7♥',\n",
              " '8♥',\n",
              " '9♥',\n",
              " '10♥',\n",
              " 'J♥',\n",
              " 'Q♥',\n",
              " 'K♥',\n",
              " 'A♣',\n",
              " '2♣',\n",
              " '3♣',\n",
              " '4♣',\n",
              " '5♣',\n",
              " '6♣',\n",
              " '7♣',\n",
              " '8♣',\n",
              " '9♣',\n",
              " '10♣',\n",
              " 'J♣',\n",
              " 'Q♣',\n",
              " 'K♣',\n",
              " 'A♦',\n",
              " '2♦',\n",
              " '3♦',\n",
              " '4♦',\n",
              " '5♦',\n",
              " '6♦',\n",
              " '7♦',\n",
              " '8♦',\n",
              " '9♦',\n",
              " '10♦',\n",
              " 'J♦',\n",
              " 'Q♦',\n",
              " 'K♦']"
            ]
          },
          "metadata": {},
          "execution_count": 27
        }
      ],
      "source": [
        "deck = [f\"{n}{s}\"  for s  in ['♠', '♥', '♣', '♦'] for n in ['A', 2, 3, 4, 5, 6, 7, 8, 9, 10, 'J', 'Q', 'K']]\n",
        "deck"
      ]
    },
    {
      "cell_type": "code",
      "execution_count": null,
      "metadata": {
        "id": "FAVRQjRV0JKx",
        "outputId": "deeb1fa1-ad47-4648-f7c8-658ce386d90c",
        "colab": {
          "base_uri": "https://localhost:8080/"
        }
      },
      "outputs": [
        {
          "output_type": "execute_result",
          "data": {
            "text/plain": [
              "52"
            ]
          },
          "metadata": {},
          "execution_count": 28
        }
      ],
      "source": [
        "len(deck)"
      ]
    },
    {
      "cell_type": "code",
      "execution_count": null,
      "metadata": {
        "id": "4Xz3LDv90JKx"
      },
      "outputs": [],
      "source": [
        "def convert_size(size_bytes):\n",
        "   if size_bytes == 0:\n",
        "       return \"0B\"\n",
        "   size_name = [\"Byte\", \"Kilobyte\", \"Megabyte\", \"Gigabyte\", \"Terabyte\", \"Petabyte\", \"Exabyte\", \n",
        "                \"Zettabyte\", \"Yottabyte\", \"Brontobyte\", \"Geopbyte\"]\n",
        "   size_name = size_name + [f\"1E{3*j} Geopbytes\" for j in range(1, 14)]\n",
        "   i = int(math.floor(math.log(size_bytes, 1000)))\n",
        "   print(i)\n",
        "   p = math.pow(1000, i)\n",
        "   s = round(size_bytes / p, 2)\n",
        "   return \"%s %s\" % (s, size_name[i])\n"
      ]
    },
    {
      "cell_type": "code",
      "execution_count": null,
      "metadata": {
        "id": "7eWk-OPo0JKy",
        "outputId": "5fa3fcb7-5950-4ddd-d65d-4455e828decd",
        "colab": {
          "base_uri": "https://localhost:8080/",
          "height": 53
        }
      },
      "outputs": [
        {
          "output_type": "stream",
          "name": "stdout",
          "text": [
            "23\n"
          ]
        },
        {
          "output_type": "execute_result",
          "data": {
            "text/plain": [
              "'327.15 1E39 Geopbytes'"
            ],
            "application/vnd.google.colaboratory.intrinsic+json": {
              "type": "string"
            }
          },
          "metadata": {},
          "execution_count": 31
        }
      ],
      "source": [
        "import sys\n",
        "memory = math.factorial(52)*52*sys.getsizeof(deck[0])\n",
        "convert_size(memory)"
      ]
    },
    {
      "cell_type": "code",
      "execution_count": null,
      "metadata": {
        "id": "dt2k7Z500JKz",
        "outputId": "00ce3a5a-a861-4630-bd60-1d9c1039eafb",
        "colab": {
          "base_uri": "https://localhost:8080/"
        }
      },
      "outputs": [
        {
          "output_type": "stream",
          "name": "stdout",
          "text": [
            "Equivalent to 7.081168831168832e+20 ages of the universe of data consumption\n"
          ]
        }
      ],
      "source": [
        "#In 2018, the total amount of data created, captured, copied and consumed in the world was 33 zettabytes (ZB) \n",
        "years = 327.15E39/(33E9)\n",
        "age_universe = 14E9\n",
        "print(f\"Equivalent to {round(years/age_universe,0)} ages of the universe of data consumption\")"
      ]
    },
    {
      "cell_type": "code",
      "execution_count": null,
      "metadata": {
        "id": "h5ILd3k60JK0"
      },
      "outputs": [],
      "source": [
        "def all_decks(cards):\n",
        "    if len(cards) <=1:\n",
        "        yield cards\n",
        "    else:\n",
        "        for perm in all_decks(cards[1:]):\n",
        "            for i in range(len(cards)):\n",
        "                # nb elements[0:1] works in both string and list contexts\n",
        "                yield perm[:i] + cards[0:1] + perm[i:]\n",
        "    "
      ]
    },
    {
      "cell_type": "code",
      "execution_count": null,
      "metadata": {
        "id": "MQeE0Mnb0JK1",
        "outputId": "e17839a5-9d07-4f97-924c-a639b81c56b6",
        "colab": {
          "base_uri": "https://localhost:8080/"
        }
      },
      "outputs": [
        {
          "output_type": "execute_result",
          "data": {
            "text/plain": [
              "<generator object all_decks at 0x7fef1c37b550>"
            ]
          },
          "metadata": {},
          "execution_count": 34
        }
      ],
      "source": [
        "all_permutations = all_decks(deck)\n",
        "all_permutations"
      ]
    },
    {
      "cell_type": "code",
      "execution_count": null,
      "metadata": {
        "id": "DSOCuvg70JK2",
        "outputId": "d0a57776-4ba1-461c-ee5b-716660472aa4",
        "colab": {
          "base_uri": "https://localhost:8080/"
        }
      },
      "outputs": [
        {
          "output_type": "execute_result",
          "data": {
            "text/plain": [
              "['A♠',\n",
              " '2♠',\n",
              " '3♠',\n",
              " '4♠',\n",
              " '5♠',\n",
              " '6♠',\n",
              " '7♠',\n",
              " '8♠',\n",
              " '9♠',\n",
              " '10♠',\n",
              " 'J♠',\n",
              " 'Q♠',\n",
              " 'K♠',\n",
              " 'A♥',\n",
              " '2♥',\n",
              " '3♥',\n",
              " '4♥',\n",
              " '5♥',\n",
              " '6♥',\n",
              " '7♥',\n",
              " '8♥',\n",
              " '9♥',\n",
              " '10♥',\n",
              " 'J♥',\n",
              " 'Q♥',\n",
              " 'K♥',\n",
              " 'A♣',\n",
              " '2♣',\n",
              " '3♣',\n",
              " '4♣',\n",
              " '5♣',\n",
              " '6♣',\n",
              " '7♣',\n",
              " '8♣',\n",
              " '9♣',\n",
              " '10♣',\n",
              " 'J♣',\n",
              " 'Q♣',\n",
              " 'K♣',\n",
              " 'A♦',\n",
              " '2♦',\n",
              " '3♦',\n",
              " '4♦',\n",
              " '5♦',\n",
              " '6♦',\n",
              " '7♦',\n",
              " '8♦',\n",
              " '9♦',\n",
              " '10♦',\n",
              " 'J♦',\n",
              " 'Q♦',\n",
              " 'K♦']"
            ]
          },
          "metadata": {},
          "execution_count": 35
        }
      ],
      "source": [
        "next(all_permutations)"
      ]
    },
    {
      "cell_type": "code",
      "execution_count": null,
      "metadata": {
        "id": "jYEbxwEN0JK3",
        "outputId": "75ddfd90-cc36-4db3-8d42-89f3ed79225f",
        "colab": {
          "base_uri": "https://localhost:8080/"
        }
      },
      "outputs": [
        {
          "output_type": "execute_result",
          "data": {
            "text/plain": [
              "['2♠',\n",
              " 'A♠',\n",
              " '3♠',\n",
              " '4♠',\n",
              " '5♠',\n",
              " '6♠',\n",
              " '7♠',\n",
              " '8♠',\n",
              " '9♠',\n",
              " '10♠',\n",
              " 'J♠',\n",
              " 'Q♠',\n",
              " 'K♠',\n",
              " 'A♥',\n",
              " '2♥',\n",
              " '3♥',\n",
              " '4♥',\n",
              " '5♥',\n",
              " '6♥',\n",
              " '7♥',\n",
              " '8♥',\n",
              " '9♥',\n",
              " '10♥',\n",
              " 'J♥',\n",
              " 'Q♥',\n",
              " 'K♥',\n",
              " 'A♣',\n",
              " '2♣',\n",
              " '3♣',\n",
              " '4♣',\n",
              " '5♣',\n",
              " '6♣',\n",
              " '7♣',\n",
              " '8♣',\n",
              " '9♣',\n",
              " '10♣',\n",
              " 'J♣',\n",
              " 'Q♣',\n",
              " 'K♣',\n",
              " 'A♦',\n",
              " '2♦',\n",
              " '3♦',\n",
              " '4♦',\n",
              " '5♦',\n",
              " '6♦',\n",
              " '7♦',\n",
              " '8♦',\n",
              " '9♦',\n",
              " '10♦',\n",
              " 'J♦',\n",
              " 'Q♦',\n",
              " 'K♦']"
            ]
          },
          "metadata": {},
          "execution_count": 36
        }
      ],
      "source": [
        "next(all_permutations)"
      ]
    },
    {
      "cell_type": "code",
      "execution_count": null,
      "metadata": {
        "id": "ZBxteK5t0JK4",
        "outputId": "57f48b93-f6d3-45eb-eb45-caeb7437bbe1",
        "colab": {
          "base_uri": "https://localhost:8080/"
        }
      },
      "outputs": [
        {
          "output_type": "stream",
          "name": "stdout",
          "text": [
            "['A♠', '2♠', '3♠', '4♠', '5♠', '6♠', '7♠', '8♠', '9♠', '10♠', 'J♠', 'Q♠', 'K♠', 'A♥', '2♥', '3♥', '4♥', '5♥', '6♥', '7♥', '8♥', '9♥', '10♥', 'J♥', 'Q♥', 'K♥', 'A♣', '2♣', '3♣', '4♣', '5♣', '6♣', '7♣', '8♣', '9♣', '10♣', 'J♣', 'Q♣', 'K♣', 'A♦', '2♦', '3♦', '4♦', '5♦', '6♦', '7♦', '8♦', '9♦', '10♦', 'J♦', 'Q♦', 'K♦']\n",
            "['2♠', 'A♠', '3♠', '4♠', '5♠', '6♠', '7♠', '8♠', '9♠', '10♠', 'J♠', 'Q♠', 'K♠', 'A♥', '2♥', '3♥', '4♥', '5♥', '6♥', '7♥', '8♥', '9♥', '10♥', 'J♥', 'Q♥', 'K♥', 'A♣', '2♣', '3♣', '4♣', '5♣', '6♣', '7♣', '8♣', '9♣', '10♣', 'J♣', 'Q♣', 'K♣', 'A♦', '2♦', '3♦', '4♦', '5♦', '6♦', '7♦', '8♦', '9♦', '10♦', 'J♦', 'Q♦', 'K♦']\n",
            "['2♠', '3♠', 'A♠', '4♠', '5♠', '6♠', '7♠', '8♠', '9♠', '10♠', 'J♠', 'Q♠', 'K♠', 'A♥', '2♥', '3♥', '4♥', '5♥', '6♥', '7♥', '8♥', '9♥', '10♥', 'J♥', 'Q♥', 'K♥', 'A♣', '2♣', '3♣', '4♣', '5♣', '6♣', '7♣', '8♣', '9♣', '10♣', 'J♣', 'Q♣', 'K♣', 'A♦', '2♦', '3♦', '4♦', '5♦', '6♦', '7♦', '8♦', '9♦', '10♦', 'J♦', 'Q♦', 'K♦']\n",
            "['2♠', '3♠', '4♠', 'A♠', '5♠', '6♠', '7♠', '8♠', '9♠', '10♠', 'J♠', 'Q♠', 'K♠', 'A♥', '2♥', '3♥', '4♥', '5♥', '6♥', '7♥', '8♥', '9♥', '10♥', 'J♥', 'Q♥', 'K♥', 'A♣', '2♣', '3♣', '4♣', '5♣', '6♣', '7♣', '8♣', '9♣', '10♣', 'J♣', 'Q♣', 'K♣', 'A♦', '2♦', '3♦', '4♦', '5♦', '6♦', '7♦', '8♦', '9♦', '10♦', 'J♦', 'Q♦', 'K♦']\n",
            "['2♠', '3♠', '4♠', '5♠', 'A♠', '6♠', '7♠', '8♠', '9♠', '10♠', 'J♠', 'Q♠', 'K♠', 'A♥', '2♥', '3♥', '4♥', '5♥', '6♥', '7♥', '8♥', '9♥', '10♥', 'J♥', 'Q♥', 'K♥', 'A♣', '2♣', '3♣', '4♣', '5♣', '6♣', '7♣', '8♣', '9♣', '10♣', 'J♣', 'Q♣', 'K♣', 'A♦', '2♦', '3♦', '4♦', '5♦', '6♦', '7♦', '8♦', '9♦', '10♦', 'J♦', 'Q♦', 'K♦']\n",
            "['2♠', '3♠', '4♠', '5♠', '6♠', 'A♠', '7♠', '8♠', '9♠', '10♠', 'J♠', 'Q♠', 'K♠', 'A♥', '2♥', '3♥', '4♥', '5♥', '6♥', '7♥', '8♥', '9♥', '10♥', 'J♥', 'Q♥', 'K♥', 'A♣', '2♣', '3♣', '4♣', '5♣', '6♣', '7♣', '8♣', '9♣', '10♣', 'J♣', 'Q♣', 'K♣', 'A♦', '2♦', '3♦', '4♦', '5♦', '6♦', '7♦', '8♦', '9♦', '10♦', 'J♦', 'Q♦', 'K♦']\n",
            "['2♠', '3♠', '4♠', '5♠', '6♠', '7♠', 'A♠', '8♠', '9♠', '10♠', 'J♠', 'Q♠', 'K♠', 'A♥', '2♥', '3♥', '4♥', '5♥', '6♥', '7♥', '8♥', '9♥', '10♥', 'J♥', 'Q♥', 'K♥', 'A♣', '2♣', '3♣', '4♣', '5♣', '6♣', '7♣', '8♣', '9♣', '10♣', 'J♣', 'Q♣', 'K♣', 'A♦', '2♦', '3♦', '4♦', '5♦', '6♦', '7♦', '8♦', '9♦', '10♦', 'J♦', 'Q♦', 'K♦']\n",
            "['2♠', '3♠', '4♠', '5♠', '6♠', '7♠', '8♠', 'A♠', '9♠', '10♠', 'J♠', 'Q♠', 'K♠', 'A♥', '2♥', '3♥', '4♥', '5♥', '6♥', '7♥', '8♥', '9♥', '10♥', 'J♥', 'Q♥', 'K♥', 'A♣', '2♣', '3♣', '4♣', '5♣', '6♣', '7♣', '8♣', '9♣', '10♣', 'J♣', 'Q♣', 'K♣', 'A♦', '2♦', '3♦', '4♦', '5♦', '6♦', '7♦', '8♦', '9♦', '10♦', 'J♦', 'Q♦', 'K♦']\n",
            "['2♠', '3♠', '4♠', '5♠', '6♠', '7♠', '8♠', '9♠', 'A♠', '10♠', 'J♠', 'Q♠', 'K♠', 'A♥', '2♥', '3♥', '4♥', '5♥', '6♥', '7♥', '8♥', '9♥', '10♥', 'J♥', 'Q♥', 'K♥', 'A♣', '2♣', '3♣', '4♣', '5♣', '6♣', '7♣', '8♣', '9♣', '10♣', 'J♣', 'Q♣', 'K♣', 'A♦', '2♦', '3♦', '4♦', '5♦', '6♦', '7♦', '8♦', '9♦', '10♦', 'J♦', 'Q♦', 'K♦']\n",
            "['2♠', '3♠', '4♠', '5♠', '6♠', '7♠', '8♠', '9♠', '10♠', 'A♠', 'J♠', 'Q♠', 'K♠', 'A♥', '2♥', '3♥', '4♥', '5♥', '6♥', '7♥', '8♥', '9♥', '10♥', 'J♥', 'Q♥', 'K♥', 'A♣', '2♣', '3♣', '4♣', '5♣', '6♣', '7♣', '8♣', '9♣', '10♣', 'J♣', 'Q♣', 'K♣', 'A♦', '2♦', '3♦', '4♦', '5♦', '6♦', '7♦', '8♦', '9♦', '10♦', 'J♦', 'Q♦', 'K♦']\n",
            "['2♠', '3♠', '4♠', '5♠', '6♠', '7♠', '8♠', '9♠', '10♠', 'J♠', 'A♠', 'Q♠', 'K♠', 'A♥', '2♥', '3♥', '4♥', '5♥', '6♥', '7♥', '8♥', '9♥', '10♥', 'J♥', 'Q♥', 'K♥', 'A♣', '2♣', '3♣', '4♣', '5♣', '6♣', '7♣', '8♣', '9♣', '10♣', 'J♣', 'Q♣', 'K♣', 'A♦', '2♦', '3♦', '4♦', '5♦', '6♦', '7♦', '8♦', '9♦', '10♦', 'J♦', 'Q♦', 'K♦']\n",
            "['2♠', '3♠', '4♠', '5♠', '6♠', '7♠', '8♠', '9♠', '10♠', 'J♠', 'Q♠', 'A♠', 'K♠', 'A♥', '2♥', '3♥', '4♥', '5♥', '6♥', '7♥', '8♥', '9♥', '10♥', 'J♥', 'Q♥', 'K♥', 'A♣', '2♣', '3♣', '4♣', '5♣', '6♣', '7♣', '8♣', '9♣', '10♣', 'J♣', 'Q♣', 'K♣', 'A♦', '2♦', '3♦', '4♦', '5♦', '6♦', '7♦', '8♦', '9♦', '10♦', 'J♦', 'Q♦', 'K♦']\n",
            "['2♠', '3♠', '4♠', '5♠', '6♠', '7♠', '8♠', '9♠', '10♠', 'J♠', 'Q♠', 'K♠', 'A♠', 'A♥', '2♥', '3♥', '4♥', '5♥', '6♥', '7♥', '8♥', '9♥', '10♥', 'J♥', 'Q♥', 'K♥', 'A♣', '2♣', '3♣', '4♣', '5♣', '6♣', '7♣', '8♣', '9♣', '10♣', 'J♣', 'Q♣', 'K♣', 'A♦', '2♦', '3♦', '4♦', '5♦', '6♦', '7♦', '8♦', '9♦', '10♦', 'J♦', 'Q♦', 'K♦']\n",
            "['2♠', '3♠', '4♠', '5♠', '6♠', '7♠', '8♠', '9♠', '10♠', 'J♠', 'Q♠', 'K♠', 'A♥', 'A♠', '2♥', '3♥', '4♥', '5♥', '6♥', '7♥', '8♥', '9♥', '10♥', 'J♥', 'Q♥', 'K♥', 'A♣', '2♣', '3♣', '4♣', '5♣', '6♣', '7♣', '8♣', '9♣', '10♣', 'J♣', 'Q♣', 'K♣', 'A♦', '2♦', '3♦', '4♦', '5♦', '6♦', '7♦', '8♦', '9♦', '10♦', 'J♦', 'Q♦', 'K♦']\n",
            "['2♠', '3♠', '4♠', '5♠', '6♠', '7♠', '8♠', '9♠', '10♠', 'J♠', 'Q♠', 'K♠', 'A♥', '2♥', 'A♠', '3♥', '4♥', '5♥', '6♥', '7♥', '8♥', '9♥', '10♥', 'J♥', 'Q♥', 'K♥', 'A♣', '2♣', '3♣', '4♣', '5♣', '6♣', '7♣', '8♣', '9♣', '10♣', 'J♣', 'Q♣', 'K♣', 'A♦', '2♦', '3♦', '4♦', '5♦', '6♦', '7♦', '8♦', '9♦', '10♦', 'J♦', 'Q♦', 'K♦']\n",
            "['2♠', '3♠', '4♠', '5♠', '6♠', '7♠', '8♠', '9♠', '10♠', 'J♠', 'Q♠', 'K♠', 'A♥', '2♥', '3♥', 'A♠', '4♥', '5♥', '6♥', '7♥', '8♥', '9♥', '10♥', 'J♥', 'Q♥', 'K♥', 'A♣', '2♣', '3♣', '4♣', '5♣', '6♣', '7♣', '8♣', '9♣', '10♣', 'J♣', 'Q♣', 'K♣', 'A♦', '2♦', '3♦', '4♦', '5♦', '6♦', '7♦', '8♦', '9♦', '10♦', 'J♦', 'Q♦', 'K♦']\n",
            "['2♠', '3♠', '4♠', '5♠', '6♠', '7♠', '8♠', '9♠', '10♠', 'J♠', 'Q♠', 'K♠', 'A♥', '2♥', '3♥', '4♥', 'A♠', '5♥', '6♥', '7♥', '8♥', '9♥', '10♥', 'J♥', 'Q♥', 'K♥', 'A♣', '2♣', '3♣', '4♣', '5♣', '6♣', '7♣', '8♣', '9♣', '10♣', 'J♣', 'Q♣', 'K♣', 'A♦', '2♦', '3♦', '4♦', '5♦', '6♦', '7♦', '8♦', '9♦', '10♦', 'J♦', 'Q♦', 'K♦']\n",
            "['2♠', '3♠', '4♠', '5♠', '6♠', '7♠', '8♠', '9♠', '10♠', 'J♠', 'Q♠', 'K♠', 'A♥', '2♥', '3♥', '4♥', '5♥', 'A♠', '6♥', '7♥', '8♥', '9♥', '10♥', 'J♥', 'Q♥', 'K♥', 'A♣', '2♣', '3♣', '4♣', '5♣', '6♣', '7♣', '8♣', '9♣', '10♣', 'J♣', 'Q♣', 'K♣', 'A♦', '2♦', '3♦', '4♦', '5♦', '6♦', '7♦', '8♦', '9♦', '10♦', 'J♦', 'Q♦', 'K♦']\n",
            "['2♠', '3♠', '4♠', '5♠', '6♠', '7♠', '8♠', '9♠', '10♠', 'J♠', 'Q♠', 'K♠', 'A♥', '2♥', '3♥', '4♥', '5♥', '6♥', 'A♠', '7♥', '8♥', '9♥', '10♥', 'J♥', 'Q♥', 'K♥', 'A♣', '2♣', '3♣', '4♣', '5♣', '6♣', '7♣', '8♣', '9♣', '10♣', 'J♣', 'Q♣', 'K♣', 'A♦', '2♦', '3♦', '4♦', '5♦', '6♦', '7♦', '8♦', '9♦', '10♦', 'J♦', 'Q♦', 'K♦']\n",
            "['2♠', '3♠', '4♠', '5♠', '6♠', '7♠', '8♠', '9♠', '10♠', 'J♠', 'Q♠', 'K♠', 'A♥', '2♥', '3♥', '4♥', '5♥', '6♥', '7♥', 'A♠', '8♥', '9♥', '10♥', 'J♥', 'Q♥', 'K♥', 'A♣', '2♣', '3♣', '4♣', '5♣', '6♣', '7♣', '8♣', '9♣', '10♣', 'J♣', 'Q♣', 'K♣', 'A♦', '2♦', '3♦', '4♦', '5♦', '6♦', '7♦', '8♦', '9♦', '10♦', 'J♦', 'Q♦', 'K♦']\n",
            "['2♠', '3♠', '4♠', '5♠', '6♠', '7♠', '8♠', '9♠', '10♠', 'J♠', 'Q♠', 'K♠', 'A♥', '2♥', '3♥', '4♥', '5♥', '6♥', '7♥', '8♥', 'A♠', '9♥', '10♥', 'J♥', 'Q♥', 'K♥', 'A♣', '2♣', '3♣', '4♣', '5♣', '6♣', '7♣', '8♣', '9♣', '10♣', 'J♣', 'Q♣', 'K♣', 'A♦', '2♦', '3♦', '4♦', '5♦', '6♦', '7♦', '8♦', '9♦', '10♦', 'J♦', 'Q♦', 'K♦']\n"
          ]
        }
      ],
      "source": [
        "all_permutations = all_decks(deck)\n",
        "i = 0\n",
        "K = 20\n",
        "\n",
        "while i <=K:\n",
        "    d = next(all_permutations)\n",
        "    print(d)\n",
        "    i = i+1"
      ]
    },
    {
      "cell_type": "markdown",
      "metadata": {
        "id": "DWxsGfve0JK4"
      },
      "source": [
        "# Type Hinting\n",
        "\n",
        "## Python is dynamically typed, which means that until runtime Python has to infer the type of objects"
      ]
    },
    {
      "cell_type": "code",
      "execution_count": null,
      "metadata": {
        "id": "NZF71HbJ0JK5"
      },
      "outputs": [],
      "source": [
        "def my_function(x):\n",
        "    pass"
      ]
    },
    {
      "cell_type": "markdown",
      "metadata": {
        "id": "lqyxMyc80JK5"
      },
      "source": [
        "## One solution, check type at run time"
      ]
    },
    {
      "cell_type": "code",
      "execution_count": null,
      "metadata": {
        "id": "c9nBplZv0JK5"
      },
      "outputs": [],
      "source": [
        "def my_function(x):\n",
        "    if type(x)==int:\n",
        "        pass\n",
        "    elif type(x)==float:\n",
        "        pass\n",
        "    else:\n",
        "        raise Exception(\"Type not accepted\")"
      ]
    },
    {
      "cell_type": "code",
      "execution_count": null,
      "metadata": {
        "id": "19T2KYA80JK7"
      },
      "outputs": [],
      "source": [
        "my_function(1)"
      ]
    },
    {
      "cell_type": "markdown",
      "metadata": {
        "id": "tEKgWbsK0JK7"
      },
      "source": [
        "## Hint types"
      ]
    },
    {
      "cell_type": "code",
      "execution_count": null,
      "metadata": {
        "id": "jl9VFktu0JK7"
      },
      "outputs": [],
      "source": [
        "def square_root(x: float):\n",
        "    pass"
      ]
    },
    {
      "cell_type": "code",
      "execution_count": null,
      "metadata": {
        "id": "0Pxu63Yo0JK7"
      },
      "outputs": [],
      "source": [
        "square_root(1) # For python int <: float"
      ]
    },
    {
      "cell_type": "code",
      "execution_count": null,
      "metadata": {
        "id": "1qz0rv5z0JK8"
      },
      "outputs": [],
      "source": [
        "square_root(True) # Is a hint not a requirement"
      ]
    },
    {
      "cell_type": "code",
      "execution_count": null,
      "metadata": {
        "id": "vWfDksPq0JK8",
        "outputId": "523d9be3-4640-418f-e68d-f1517650f1bd",
        "colab": {
          "base_uri": "https://localhost:8080/",
          "height": 35
        }
      },
      "outputs": [
        {
          "output_type": "execute_result",
          "data": {
            "text/plain": [
              "'10'"
            ],
            "application/vnd.google.colaboratory.intrinsic+json": {
              "type": "string"
            }
          },
          "metadata": {},
          "execution_count": 44
        }
      ],
      "source": [
        "# Hint on the output\n",
        "def my_function(x: float) -> str:\n",
        "    return f\"{x}\"\n",
        "\n",
        "my_function(10)"
      ]
    },
    {
      "cell_type": "markdown",
      "source": [
        "# Tic Tac Toe Game"
      ],
      "metadata": {
        "id": "GPp5HQdaftPL"
      }
    },
    {
      "cell_type": "code",
      "source": [
        "#%%\n",
        "import numpy as np\n",
        "from dataclasses import dataclass\n",
        "import time\n",
        "import sys\n",
        "# create a data class for the Board with the decorator\n",
        "@dataclass\n",
        "class Board:\n",
        "    \n",
        "    # it is called right after initialization\n",
        "    def __init__(self):\n",
        "        self.board = np.array([[' ', ' ', ' '], [' ', ' ', ' '], [' ', ' ', ' ']])\n",
        "        # initial mark of tic tac toe \n",
        "        self.mark = 'X'\n",
        "        \n",
        "    # print the board\n",
        "    def __str__(self):\n",
        "        return f\"{self.board}\"\n",
        "    \n",
        "    # check if X won, O won, or if it is a tie\n",
        "    def check_win(self):\n",
        "        # check if X won\n",
        "        if np.any(np.all(self.board == 'X', axis=1)) or np.any(np.all(self.board == 'X', axis=0)) or np.all(np.diag(self.board) == 'X') or np.all(np.diag(np.fliplr(self.board)) == 'X'):\n",
        "            return 'X'\n",
        "        # check if O won\n",
        "        elif np.any(np.all(self.board == 'O', axis=1)) or np.any(np.all(self.board == 'O', axis=0)) or np.all(np.diag(self.board) == 'O') or np.all(np.diag(np.fliplr(self.board)) == 'O'):\n",
        "            return 'O'\n",
        "        # check if it is a tie\n",
        "        elif ' ' not in self.board:\n",
        "            return 'Tie'\n",
        "        # if none of the above, return None\n",
        "        else:\n",
        "            return None\n",
        "        \n",
        "    # make a move\n",
        "    def make_move(self, row, col):\n",
        "        # check if the move is valid\n",
        "        if self.board[row, col] == ' ':\n",
        "            # make the move\n",
        "            self.board[row, col] = self.mark\n",
        "            # switch the mark\n",
        "            if self.mark == 'X':\n",
        "                self.mark = 'O'\n",
        "            else:\n",
        "                self.mark = 'X'\n",
        "        else:\n",
        "            raise ValueError('Invalid move')\n",
        "            \n",
        "            \n",
        "    # reset the board\n",
        "    def reset(self):\n",
        "        self.board = np.array([[' ', ' ', ' '], [' ', ' ', ' '], [' ', ' ', ' ']])\n",
        "        self.mark = 'X'\n",
        "        \n",
        "# create a data class for the Player with the decorator\n",
        "@dataclass\n",
        "class Player:\n",
        "        \n",
        "        # it is called right after initialization\n",
        "        def __init__(self, name):\n",
        "            self.name = name\n",
        "            \n",
        "        # print the name \n",
        "        def __str__(self):\n",
        "            return f\"{self.name}\"\n",
        "        \n",
        "        # make a move\n",
        "        def make_move(self, board):\n",
        "            # get the row and column\n",
        "            row = int(input('Enter the row: '))\n",
        "            col = int(input('Enter the column: '))\n",
        "            # make the move\n",
        "            board.make_move(row, col)\n",
        "            \n",
        "# create a data class for the Computer with the decorator\n",
        "@dataclass\n",
        "class Computer:\n",
        "            \n",
        "            # it is called right after initialization\n",
        "            def __init__(self, name):\n",
        "                self.name = name\n",
        "                \n",
        "            # print the name \n",
        "            def __str__(self):\n",
        "                return f\"{self.name}\"\n",
        "            \n",
        "            # make a move\n",
        "            def make_move(self, board):\n",
        "                # available moves\n",
        "                available_moves = np.argwhere(board.board == ' ')\n",
        "                # choose a random move\n",
        "                move = available_moves[np.random.choice(len(available_moves))]\n",
        "                row = move[0]\n",
        "                col = move[1]\n",
        "                \n",
        "                # make the move\n",
        "                board.make_move(row, col)\n",
        "\n",
        "# create a data class for the Game with the decorator\n",
        "@dataclass\n",
        "class Game:\n",
        "        \n",
        "        # it is called right after initialization\n",
        "        def __init__(self):\n",
        "            # create the board\n",
        "            self.board = Board()\n",
        "            # create the players\n",
        "            self.player1 = Player('Player 1')\n",
        "            self.player2 = Player('Player 2')\n",
        "            # create the computer\n",
        "            self.computer = Computer('Computer')\n",
        "            # create the players\n",
        "            self.players = [self.player1, self.computer]\n",
        "            # create the current player\n",
        "            self.current_player = self.players[0]\n",
        "            \n",
        "        # print the board\n",
        "        def __str__(self):\n",
        "            return f\"{self.board}\"\n",
        "        \n",
        "        # play the game\n",
        "        def play(self):\n",
        "            # print the board\n",
        "            print(str(self), end = '\\n')\n",
        "            # loop until the game is over\n",
        "            while True:\n",
        "                time.sleep(1)\n",
        "                # print the current player\n",
        "                print(f\"It is {self.current_player}'s turn.\", end = '\\n')\n",
        "                # make a move\n",
        "                # if the current player is the human player, try until a valid move is made\n",
        "                if self.current_player == self.player1:\n",
        "                    while True:\n",
        "                        try:\n",
        "                            self.current_player.make_move(self.board)\n",
        "                            break\n",
        "                        except ValueError as ve:\n",
        "                            print(ve)\n",
        "                            \n",
        "                else:\n",
        "                    self.current_player.make_move(self.board)\n",
        "                # print the board\n",
        "                print(str(self), end = '\\n')\n",
        "                # check if someone won\n",
        "                if self.board.check_win() == 'X':\n",
        "                    print('X won!', end = '\\n')\n",
        "                    break\n",
        "                elif self.board.check_win() == 'O':\n",
        "                    print('O won!', end = '\\n')\n",
        "                    break\n",
        "                elif self.board.check_win() == 'Tie':\n",
        "                    print('Tie!', end = '\\n')\n",
        "                    break\n",
        "                # switch the current player\n",
        "                self.current_player = self.players[1 - self.players.index(self.current_player)]\n",
        "            # reset the board\n",
        "            self.board.reset()\n",
        "            \n",
        "\n",
        "\n",
        "    \n",
        "    \n",
        "    "
      ],
      "metadata": {
        "id": "wEKHMuRO7jcE"
      },
      "execution_count": 1,
      "outputs": []
    },
    {
      "cell_type": "code",
      "source": [
        "# create the game\n",
        "game = Game()\n",
        "# play the game\n",
        "game.play()"
      ],
      "metadata": {
        "id": "N-AGi-kxf0dr",
        "outputId": "514053c6-8063-42df-8823-fc57975da7e2",
        "colab": {
          "base_uri": "https://localhost:8080/"
        }
      },
      "execution_count": 2,
      "outputs": [
        {
          "output_type": "stream",
          "name": "stdout",
          "text": [
            "[[' ' ' ' ' ']\n",
            " [' ' ' ' ' ']\n",
            " [' ' ' ' ' ']]\n",
            "It is Player 1's turn.\n",
            "Enter the row: 0\n",
            "Enter the column: 0\n",
            "[['X' ' ' ' ']\n",
            " [' ' ' ' ' ']\n",
            " [' ' ' ' ' ']]\n",
            "It is Computer's turn.\n",
            "[['X' ' ' ' ']\n",
            " [' ' 'O' ' ']\n",
            " [' ' ' ' ' ']]\n",
            "It is Player 1's turn.\n",
            "Enter the row: 0\n",
            "Enter the column: 1\n",
            "[['X' 'X' ' ']\n",
            " [' ' 'O' ' ']\n",
            " [' ' ' ' ' ']]\n",
            "It is Computer's turn.\n",
            "[['X' 'X' ' ']\n",
            " [' ' 'O' ' ']\n",
            " ['O' ' ' ' ']]\n",
            "It is Player 1's turn.\n",
            "Enter the row: 1\n",
            "Enter the column: 0\n",
            "[['X' 'X' ' ']\n",
            " ['X' 'O' ' ']\n",
            " ['O' ' ' ' ']]\n",
            "It is Computer's turn.\n",
            "[['X' 'X' ' ']\n",
            " ['X' 'O' ' ']\n",
            " ['O' 'O' ' ']]\n",
            "It is Player 1's turn.\n",
            "Enter the row: 1\n",
            "Enter the column: 2\n",
            "[['X' 'X' ' ']\n",
            " ['X' 'O' 'X']\n",
            " ['O' 'O' ' ']]\n",
            "It is Computer's turn.\n",
            "[['X' 'X' ' ']\n",
            " ['X' 'O' 'X']\n",
            " ['O' 'O' 'O']]\n",
            "O won!\n"
          ]
        }
      ]
    },
    {
      "cell_type": "code",
      "source": [],
      "metadata": {
        "id": "6qlVwPmHf6CI"
      },
      "execution_count": null,
      "outputs": []
    }
  ],
  "metadata": {
    "interpreter": {
      "hash": "3bce3b5366bc5d3beb18138a90777eb607bfd7bcdc5b1b5786ac51c214c88ff2"
    },
    "kernelspec": {
      "display_name": "Python 3.8.11 64-bit ('base': conda)",
      "name": "python3"
    },
    "language_info": {
      "codemirror_mode": {
        "name": "ipython",
        "version": 3
      },
      "file_extension": ".py",
      "mimetype": "text/x-python",
      "name": "python",
      "nbconvert_exporter": "python",
      "pygments_lexer": "ipython3",
      "version": "3.8.11"
    },
    "orig_nbformat": 4,
    "colab": {
      "provenance": []
    }
  },
  "nbformat": 4,
  "nbformat_minor": 0
}