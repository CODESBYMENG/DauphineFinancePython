{
 "cells": [
  {
   "cell_type": "markdown",
   "metadata": {},
   "source": [
    "# How to create your own API"
   ]
  },
  {
   "cell_type": "markdown",
   "metadata": {},
   "source": [
    "- How can we make different softwares communicate? All we need is an API"
   ]
  },
  {
   "cell_type": "markdown",
   "metadata": {},
   "source": [
    "An API (**Application Programming Interface**) defines the types of requests that a software can make to another"
   ]
  },
  {
   "cell_type": "markdown",
   "metadata": {},
   "source": [
    "Requests are classified into\n",
    "\n",
    "- GET/POST/PUT/PATCH/DELETE "
   ]
  },
  {
   "cell_type": "markdown",
   "metadata": {},
   "source": [
    "## Example"
   ]
  },
  {
   "cell_type": "markdown",
   "metadata": {},
   "source": [
    "Let's consider a toy model in which we have data on firms, CEOs, and their compensation. "
   ]
  },
  {
   "cell_type": "code",
   "execution_count": 3,
   "metadata": {},
   "outputs": [
    {
     "name": "stdout",
     "output_type": "stream",
     "text": [
      "             Name  Age\n",
      "0  Doug McMillion   55\n",
      "1      Fu Chengyu   70\n",
      "2      Andy Jassy   53\n",
      "3     Zhou Jiping   69\n",
      "4        Tim Cook   60\n",
      "                                 Name Ticker  Revenue (billions)  \\\n",
      "0                        Walmart Inc.    WMT               542.0   \n",
      "1  China Petroleum and Chemical Corp.    SNP               355.8   \n",
      "2                      Amazon.com Inc   AMZN               321.8   \n",
      "3                  PetroChina Co. Ltd    PTR               320.0   \n",
      "4                          Apple Inc.   AAPL               273.9   \n",
      "\n",
      "              CEO  \n",
      "0  Doug McMillion  \n",
      "1      Fu Chengyu  \n",
      "2      Jeff Bezos  \n",
      "3     Zhou Jiping  \n",
      "4        Tim Cook  \n"
     ]
    }
   ],
   "source": [
    "import pandas as pd\n",
    "\n",
    "ceos = [{\"Name\" : \"Doug McMillion\", \"Age\" : 55},\n",
    "        {\"Name\" : \"Fu Chengyu\", \"Age\" : 70}, \n",
    "        {\"Name\" : \"Andy Jassy\", \"Age\" : 53}, \n",
    "        {\"Name\" : \"Zhou Jiping\", \"Age\" : 69}, \n",
    "        {\"Name\" : \"Tim Cook\", \"Age\" : 60}]\n",
    "\n",
    "companies = [{\"Name\" : \"Walmart Inc.\", \"Ticker\" : \"WMT\", \"Revenue (billions)\" : 542, \"CEO\" : \"Doug McMillion\"},\n",
    "             {\"Name\" : \"China Petroleum and Chemical Corp.\", \"Ticker\" : \"SNP\", \"Revenue (billions)\" : 355.8, \"CEO\" : \"Fu Chengyu\"},\n",
    "             {\"Name\" : \"Amazon.com Inc\", \"Ticker\" : \"AMZN\", \"Revenue (billions)\" : 321.8, \"CEO\" : \"Jeff Bezos\"}, \n",
    "             {\"Name\" : \"PetroChina Co. Ltd\", \"Ticker\" : \"PTR\", \"Revenue (billions)\" : 320, \"CEO\" : \"Zhou Jiping\"}, \n",
    "             {\"Name\" : \"Apple Inc.\", \"Ticker\" : \"AAPL\", \"Revenue (billions)\" : 273.9, \"CEO\" : \"Tim Cook\"}]\n",
    "\n",
    "df_ceos = pd.DataFrame.from_dict(ceos)\n",
    "print(df_ceos.head())\n",
    "\n",
    "df_companies = pd.DataFrame.from_dict(companies)\n",
    "print(df_companies)"
   ]
  },
  {
   "cell_type": "markdown",
   "metadata": {},
   "source": [
    "## Basic REST API\n",
    "- Representational state transfer\n",
    "- An API requires an internet connection or at least a localhost\n",
    "- We will use Python's Flask library to create the API\n",
    "- Requests are done via HTTP requests (urls)"
   ]
  },
  {
   "cell_type": "code",
   "execution_count": 6,
   "metadata": {},
   "outputs": [
    {
     "name": "stdout",
     "output_type": "stream",
     "text": [
      "Requirement already satisfied: flask in c:\\users\\juan\\anaconda3\\lib\\site-packages (1.1.2)\n",
      "Requirement already satisfied: Werkzeug>=0.15 in c:\\users\\juan\\anaconda3\\lib\\site-packages (from flask) (2.0.1)\n",
      "Requirement already satisfied: Jinja2>=2.10.1 in c:\\users\\juan\\anaconda3\\lib\\site-packages (from flask) (2.11.3)\n",
      "Requirement already satisfied: itsdangerous>=0.24 in c:\\users\\juan\\anaconda3\\lib\\site-packages (from flask) (2.0.1)\n",
      "Requirement already satisfied: click>=5.1 in c:\\users\\juan\\anaconda3\\lib\\site-packages (from flask) (8.0.1)\n",
      "Requirement already satisfied: colorama in c:\\users\\juan\\anaconda3\\lib\\site-packages (from click>=5.1->flask) (0.4.4)\n",
      "Requirement already satisfied: MarkupSafe>=0.23 in c:\\users\\juan\\anaconda3\\lib\\site-packages (from Jinja2>=2.10.1->flask) (2.0.1)\n",
      "Collecting flask_restful\n",
      "  Downloading Flask_RESTful-0.3.9-py2.py3-none-any.whl (25 kB)\n",
      "Requirement already satisfied: pytz in c:\\users\\juan\\anaconda3\\lib\\site-packages (from flask_restful) (2021.3)\n",
      "Requirement already satisfied: Flask>=0.8 in c:\\users\\juan\\anaconda3\\lib\\site-packages (from flask_restful) (1.1.2)\n",
      "Requirement already satisfied: six>=1.3.0 in c:\\users\\juan\\anaconda3\\lib\\site-packages (from flask_restful) (1.16.0)\n",
      "Collecting aniso8601>=0.82\n",
      "  Downloading aniso8601-9.0.1-py2.py3-none-any.whl (52 kB)\n",
      "Requirement already satisfied: click>=5.1 in c:\\users\\juan\\anaconda3\\lib\\site-packages (from Flask>=0.8->flask_restful) (8.0.1)\n",
      "Requirement already satisfied: Jinja2>=2.10.1 in c:\\users\\juan\\anaconda3\\lib\\site-packages (from Flask>=0.8->flask_restful) (2.11.3)\n",
      "Requirement already satisfied: itsdangerous>=0.24 in c:\\users\\juan\\anaconda3\\lib\\site-packages (from Flask>=0.8->flask_restful) (2.0.1)\n",
      "Requirement already satisfied: Werkzeug>=0.15 in c:\\users\\juan\\anaconda3\\lib\\site-packages (from Flask>=0.8->flask_restful) (2.0.1)\n",
      "Requirement already satisfied: colorama in c:\\users\\juan\\anaconda3\\lib\\site-packages (from click>=5.1->Flask>=0.8->flask_restful) (0.4.4)\n",
      "Requirement already satisfied: MarkupSafe>=0.23 in c:\\users\\juan\\anaconda3\\lib\\site-packages (from Jinja2>=2.10.1->Flask>=0.8->flask_restful) (2.0.1)\n",
      "Installing collected packages: aniso8601, flask-restful\n",
      "Successfully installed aniso8601-9.0.1 flask-restful-0.3.9\n"
     ]
    }
   ],
   "source": [
    "!pip install flask\n",
    "!pip install flask_restful"
   ]
  },
  {
   "cell_type": "code",
   "execution_count": 14,
   "metadata": {},
   "outputs": [],
   "source": [
    "from flask import Flask\n",
    "from flask_restful import Resource, Api, reqparse\n",
    "import ast\n",
    "\n",
    "app = Flask(\"My App\")\n",
    "api = Api(app)"
   ]
  },
  {
   "cell_type": "markdown",
   "metadata": {},
   "source": [
    "## Endpoints"
   ]
  },
  {
   "cell_type": "markdown",
   "metadata": {},
   "source": [
    "We have 2 endpoints, CEOS and Companies. If our API were located at `www.mycoolapi.com`, communications would be done by accessing `www.mycoolapi.com/ceos` and `www.mycoolapi.com/companies`"
   ]
  },
  {
   "cell_type": "code",
   "execution_count": 15,
   "metadata": {},
   "outputs": [],
   "source": [
    "# Create an endpoint as a Python class\n",
    "\n",
    "class Ceos(Resource):\n",
    "    pass\n",
    "\n",
    "class Companies(Resource):\n",
    "    pass\n",
    "\n",
    "api.add_resource(Ceos, '/ceos')\n",
    "api.add_resource(Companies, '/companies')"
   ]
  },
  {
   "cell_type": "markdown",
   "metadata": {},
   "source": [
    "Flask needs to know that this class is an endpoint for our API, and so we pass Resource in with the class definition."
   ]
  },
  {
   "cell_type": "markdown",
   "metadata": {},
   "source": [
    "Inside the class, we include our HTTP methods (GET, POST, DELETE, etc.).\n",
    "\n",
    "Run the API (include `if __name__ == '__main__':` before the `app.run()` command when creating a .py file)"
   ]
  },
  {
   "cell_type": "code",
   "execution_count": 16,
   "metadata": {},
   "outputs": [
    {
     "name": "stdout",
     "output_type": "stream",
     "text": [
      " * Serving Flask app \"My App\" (lazy loading)\n",
      " * Environment: production\n",
      "\u001b[31m   WARNING: This is a development server. Do not use it in a production deployment.\u001b[0m\n",
      "\u001b[2m   Use a production WSGI server instead.\u001b[0m\n",
      " * Debug mode: off\n"
     ]
    },
    {
     "name": "stderr",
     "output_type": "stream",
     "text": [
      " * Running on http://127.0.0.1:5000/ (Press CTRL+C to quit)\n"
     ]
    }
   ],
   "source": [
    "app.run()"
   ]
  },
  {
   "cell_type": "markdown",
   "metadata": {},
   "source": [
    "## Writing API methods"
   ]
  },
  {
   "cell_type": "markdown",
   "metadata": {},
   "source": [
    "The GET method is the simplest. We return all data stored in the dataframe wrapped inside a dictionary, like so:"
   ]
  },
  {
   "cell_type": "code",
   "execution_count": 24,
   "metadata": {},
   "outputs": [],
   "source": [
    "class Ceos(Resource):\n",
    "    \n",
    "    def get(self):\n",
    "        ceos = [df_ceos.iloc[i].to_dict() for i in range(len(df_ceos))]\n",
    "        return  ceos , 200 # The 200 is the standard way to say everything is ok\n",
    "\n",
    "class Companies(Resource):\n",
    "    \n",
    "    def get(self):\n",
    "        companies = [df_companies.iloc[i].to_dict() for i in range(len(df_companies))]\n",
    "        return  companies , 200 # The 200 is the standard way to say everything is ok\n",
    "\n",
    "api = Api(Flask(\"My App\"))\n",
    "api.add_resource(Ceos, '/ceos')\n",
    "api.add_resource(Companies, '/companies')"
   ]
  },
  {
   "cell_type": "markdown",
   "metadata": {},
   "source": [
    "## **DO NOT RUN THE CELLS BELOW**\n",
    "\n",
    "use POSTMAN https://www.postman.com/downloads/\n",
    "\n",
    "From this point, to run code, we will move towards the script in api.py"
   ]
  },
  {
   "cell_type": "markdown",
   "metadata": {},
   "source": [
    "## Customize your GET methods"
   ]
  },
  {
   "cell_type": "markdown",
   "metadata": {},
   "source": [
    "GET methods can be customized to obtain only a subset of the data using **keywords**. These **keywords** are passed through the url. E.g. \n",
    "\n",
    "`www.mycoolapi.com/companies?ticker=aapl`"
   ]
  },
  {
   "cell_type": "markdown",
   "metadata": {},
   "source": [
    "Ask specific companies or ranges of profits"
   ]
  },
  {
   "cell_type": "code",
   "execution_count": null,
   "metadata": {},
   "outputs": [],
   "source": [
    "class Companies(Resource):\n",
    "\n",
    "    def get(self):\n",
    "\n",
    "        parser = reqparse.RequestParser()\n",
    "\n",
    "        parser.add_argument('ticker', required = False) # If the ticker is mandatory for the request, change to True\n",
    "        parser.add_argument('min_revenue', required=False)\n",
    "\n",
    "        args = parser.parse_args()\n",
    "\n",
    "        # Args is a dictionary\n",
    "        data = pd.DataFrame()\n",
    "        if args['ticker'] is not None:\n",
    "            data = df_companies[df_companies['Ticker'] == args['ticker']]\n",
    "\n",
    "        if args['min_revenue'] is not None:\n",
    "            data = df_companies[df_companies['Revenue (billions)'] >= args['ticker']]\n",
    "\n",
    "        companies = [data.iloc[i].to_dict() for i in range(len(data))]\n",
    "\n",
    "        return data, 200\n",
    "        "
   ]
  },
  {
   "cell_type": "markdown",
   "metadata": {},
   "source": [
    "Request CEOS older than some age"
   ]
  },
  {
   "cell_type": "code",
   "execution_count": null,
   "metadata": {},
   "outputs": [],
   "source": [
    "class Ceos(Resource):\n",
    "\n",
    "    def get(self):\n",
    "\n",
    "        parser = reqparse.RequestParser()\n",
    "        parser.add_argument('min_age', required=False)\n",
    "\n",
    "        args = parser.parse_args()\n",
    "\n",
    "        # Args is a dictionary\n",
    "        data = pd.DataFrame()\n",
    "        if args['min_age'] is not None:\n",
    "            data = df_ceos[df_ceos['Age'] = args['min_age']]\n",
    "\n",
    "        ceos = [data.iloc[i].to_dict() for i in range(len(data))]\n",
    "\n",
    "        return ceos, 200"
   ]
  }
 ],
 "metadata": {
  "interpreter": {
   "hash": "3bce3b5366bc5d3beb18138a90777eb607bfd7bcdc5b1b5786ac51c214c88ff2"
  },
  "kernelspec": {
   "display_name": "Python 3.8.11 64-bit ('base': conda)",
   "name": "python3"
  },
  "language_info": {
   "codemirror_mode": {
    "name": "ipython",
    "version": 3
   },
   "file_extension": ".py",
   "mimetype": "text/x-python",
   "name": "python",
   "nbconvert_exporter": "python",
   "pygments_lexer": "ipython3",
   "version": "3.8.11"
  },
  "orig_nbformat": 4
 },
 "nbformat": 4,
 "nbformat_minor": 2
}
