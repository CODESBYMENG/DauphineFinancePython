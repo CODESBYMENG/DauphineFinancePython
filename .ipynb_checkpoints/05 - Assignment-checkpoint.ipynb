{
 "cells": [
  {
   "cell_type": "markdown",
   "metadata": {},
   "source": [
    "# Assignment"
   ]
  },
  {
   "cell_type": "markdown",
   "metadata": {},
   "source": [
    "As a Portfolio Manager part of your responsibilities consists of suggesting new investments to your clients. You have access to information about expected returns and standard deviations of 100 different assets, all the information can be found inside of the file. Your business partner has started preparing a Python script that analyzes this data and suggests a portfolio to potential clients. Unfortunately, the file is incomplete and is your duty to complete it (complete lines following the statement TODO)"
   ]
  },
  {
   "cell_type": "code",
   "execution_count": null,
   "metadata": {},
   "outputs": [],
   "source": [
    "# Creates a file with artificial and random ticket information\n",
    "N = 100\n",
    "import math\n",
    "import string\n",
    "import random\n",
    "import pandas as pd\n",
    "random.seed(123)\n",
    "tickers = [''.join(random.choices(string.ascii_uppercase + string.digits, k = 4)) for n in range(N)] \n",
    "# Uniform random numbers for expected returns and volatility\n",
    "er      = [random.random()*0.1 for n in range(N)]\n",
    "sd      = [random.random()*0.2 for n in range(N)]\n"
   ]
  },
  {
   "cell_type": "code",
   "execution_count": null,
   "metadata": {
    "scrolled": true
   },
   "outputs": [],
   "source": [
    "# TODO: Create a dictionary that has as key the ticker of the company and as value a tuple containing the expected return and the standard deviation\n"
   ]
  },
  {
   "cell_type": "code",
   "execution_count": null,
   "metadata": {},
   "outputs": [],
   "source": [
    "# TODO: Create a third element for each key in the dictionary that consists of the ratio between the expected return and the standard  (sharpe ratio)\n",
    "# Hint: Remember that tuples are immutable but dictionaries are not\n"
   ]
  },
  {
   "cell_type": "code",
   "execution_count": null,
   "metadata": {},
   "outputs": [],
   "source": [
    "# TODO: Find the ten companies with the largest sharpe ratios\n",
    "# Hint: Store the tickers of the 10 largest sharpe ratios while traversing all the companies, update if you have found a new and larger sharpe ratio\n",
    "#       you can use the functions max and min, as well as the following argmin and argmax functions that return the index of the maximum and minimum in\n",
    "#       the array\n",
    "def argmax(iterable):\n",
    "    return max(enumerate(iterable), key=lambda x: x[1])[0]\n",
    "\n",
    "def argmin(iterable):\n",
    "    return min(enumerate(iterable), key=lambda x: x[1])[0]\n",
    "\n",
    "\n",
    "\n",
    "\n"
   ]
  },
  {
   "cell_type": "code",
   "execution_count": null,
   "metadata": {},
   "outputs": [],
   "source": []
  }
 ],
 "metadata": {
  "interpreter": {
   "hash": "7bd3de9621a27ea99b42b460a66d287dc899ab2e75d154b71d39688904eaed58"
  },
  "kernelspec": {
   "display_name": "Python 3 (ipykernel)",
   "language": "python",
   "name": "python3"
  },
  "language_info": {
   "codemirror_mode": {
    "name": "ipython",
    "version": 3
   },
   "file_extension": ".py",
   "mimetype": "text/x-python",
   "name": "python",
   "nbconvert_exporter": "python",
   "pygments_lexer": "ipython3",
   "version": "3.9.6"
  }
 },
 "nbformat": 4,
 "nbformat_minor": 2
}
